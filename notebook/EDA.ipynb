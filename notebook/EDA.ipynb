{
 "cells": [
  {
   "cell_type": "code",
   "execution_count": 1,
   "metadata": {},
   "outputs": [],
   "source": [
    "import numpy as np\n",
    "import pandas as pd\n",
    "import seaborn as sns\n",
    "import matplotlib.pyplot as plt\n",
    "%matplotlib inline\n",
    "import warnings\n",
    "warnings.filterwarnings('ignore')"
   ]
  },
  {
   "cell_type": "markdown",
   "metadata": {},
   "source": [
    "Import the CSV Data as Pandas DataFrame"
   ]
  },
  {
   "cell_type": "code",
   "execution_count": 7,
   "metadata": {},
   "outputs": [
    {
     "data": {
      "text/html": [
       "<div>\n",
       "<style scoped>\n",
       "    .dataframe tbody tr th:only-of-type {\n",
       "        vertical-align: middle;\n",
       "    }\n",
       "\n",
       "    .dataframe tbody tr th {\n",
       "        vertical-align: top;\n",
       "    }\n",
       "\n",
       "    .dataframe thead th {\n",
       "        text-align: right;\n",
       "    }\n",
       "</style>\n",
       "<table border=\"1\" class=\"dataframe\">\n",
       "  <thead>\n",
       "    <tr style=\"text-align: right;\">\n",
       "      <th></th>\n",
       "      <th>gender</th>\n",
       "      <th>race_ethnicity</th>\n",
       "      <th>parental_level_of_education</th>\n",
       "      <th>lunch</th>\n",
       "      <th>test_preparation_course</th>\n",
       "      <th>math_score</th>\n",
       "      <th>reading_score</th>\n",
       "      <th>writing_score</th>\n",
       "    </tr>\n",
       "  </thead>\n",
       "  <tbody>\n",
       "    <tr>\n",
       "      <th>0</th>\n",
       "      <td>female</td>\n",
       "      <td>group B</td>\n",
       "      <td>bachelor's degree</td>\n",
       "      <td>standard</td>\n",
       "      <td>none</td>\n",
       "      <td>72</td>\n",
       "      <td>72</td>\n",
       "      <td>74</td>\n",
       "    </tr>\n",
       "    <tr>\n",
       "      <th>1</th>\n",
       "      <td>female</td>\n",
       "      <td>group C</td>\n",
       "      <td>some college</td>\n",
       "      <td>standard</td>\n",
       "      <td>completed</td>\n",
       "      <td>69</td>\n",
       "      <td>90</td>\n",
       "      <td>88</td>\n",
       "    </tr>\n",
       "    <tr>\n",
       "      <th>2</th>\n",
       "      <td>female</td>\n",
       "      <td>group B</td>\n",
       "      <td>master's degree</td>\n",
       "      <td>standard</td>\n",
       "      <td>none</td>\n",
       "      <td>90</td>\n",
       "      <td>95</td>\n",
       "      <td>93</td>\n",
       "    </tr>\n",
       "    <tr>\n",
       "      <th>3</th>\n",
       "      <td>male</td>\n",
       "      <td>group A</td>\n",
       "      <td>associate's degree</td>\n",
       "      <td>free/reduced</td>\n",
       "      <td>none</td>\n",
       "      <td>47</td>\n",
       "      <td>57</td>\n",
       "      <td>44</td>\n",
       "    </tr>\n",
       "    <tr>\n",
       "      <th>4</th>\n",
       "      <td>male</td>\n",
       "      <td>group C</td>\n",
       "      <td>some college</td>\n",
       "      <td>standard</td>\n",
       "      <td>none</td>\n",
       "      <td>76</td>\n",
       "      <td>78</td>\n",
       "      <td>75</td>\n",
       "    </tr>\n",
       "  </tbody>\n",
       "</table>\n",
       "</div>"
      ],
      "text/plain": [
       "   gender race_ethnicity parental_level_of_education         lunch  \\\n",
       "0  female        group B           bachelor's degree      standard   \n",
       "1  female        group C                some college      standard   \n",
       "2  female        group B             master's degree      standard   \n",
       "3    male        group A          associate's degree  free/reduced   \n",
       "4    male        group C                some college      standard   \n",
       "\n",
       "  test_preparation_course  math_score  reading_score  writing_score  \n",
       "0                    none          72             72             74  \n",
       "1               completed          69             90             88  \n",
       "2                    none          90             95             93  \n",
       "3                    none          47             57             44  \n",
       "4                    none          76             78             75  "
      ]
     },
     "execution_count": 7,
     "metadata": {},
     "output_type": "execute_result"
    }
   ],
   "source": [
    "df = pd.read_csv('data/stud.csv')\n",
    "df.head()\n"
   ]
  },
  {
   "cell_type": "code",
   "execution_count": 6,
   "metadata": {},
   "outputs": [
    {
     "data": {
      "text/plain": [
       "(1000, 8)"
      ]
     },
     "execution_count": 6,
     "metadata": {},
     "output_type": "execute_result"
    }
   ],
   "source": [
    "df.shape"
   ]
  },
  {
   "cell_type": "markdown",
   "metadata": {},
   "source": [
    "Data Checks to perform\n",
    "\n",
    "-Check Missing values\n",
    "-Check Duplicates\n",
    "-Check data type\n",
    "-Check the number of unique values of each column\n",
    "-Check statistics of data set\n",
    "-Check various categories present in the different categorical column"
   ]
  },
  {
   "cell_type": "markdown",
   "metadata": {},
   "source": [
    "Check Missing values"
   ]
  },
  {
   "cell_type": "code",
   "execution_count": 8,
   "metadata": {},
   "outputs": [
    {
     "data": {
      "text/plain": [
       "gender                         0\n",
       "race_ethnicity                 0\n",
       "parental_level_of_education    0\n",
       "lunch                          0\n",
       "test_preparation_course        0\n",
       "math_score                     0\n",
       "reading_score                  0\n",
       "writing_score                  0\n",
       "dtype: int64"
      ]
     },
     "execution_count": 8,
     "metadata": {},
     "output_type": "execute_result"
    }
   ],
   "source": [
    "df.isna().sum()"
   ]
  },
  {
   "cell_type": "markdown",
   "metadata": {},
   "source": [
    "Check Duplicates"
   ]
  },
  {
   "cell_type": "code",
   "execution_count": 9,
   "metadata": {},
   "outputs": [
    {
     "data": {
      "text/plain": [
       "0"
      ]
     },
     "execution_count": 9,
     "metadata": {},
     "output_type": "execute_result"
    }
   ],
   "source": [
    "df.duplicated().sum()"
   ]
  },
  {
   "cell_type": "markdown",
   "metadata": {},
   "source": [
    "Check data types"
   ]
  },
  {
   "cell_type": "code",
   "execution_count": 10,
   "metadata": {},
   "outputs": [
    {
     "name": "stdout",
     "output_type": "stream",
     "text": [
      "<class 'pandas.core.frame.DataFrame'>\n",
      "RangeIndex: 1000 entries, 0 to 999\n",
      "Data columns (total 8 columns):\n",
      " #   Column                       Non-Null Count  Dtype \n",
      "---  ------                       --------------  ----- \n",
      " 0   gender                       1000 non-null   object\n",
      " 1   race_ethnicity               1000 non-null   object\n",
      " 2   parental_level_of_education  1000 non-null   object\n",
      " 3   lunch                        1000 non-null   object\n",
      " 4   test_preparation_course      1000 non-null   object\n",
      " 5   math_score                   1000 non-null   int64 \n",
      " 6   reading_score                1000 non-null   int64 \n",
      " 7   writing_score                1000 non-null   int64 \n",
      "dtypes: int64(3), object(5)\n",
      "memory usage: 62.6+ KB\n"
     ]
    }
   ],
   "source": [
    "df.info()"
   ]
  },
  {
   "cell_type": "markdown",
   "metadata": {},
   "source": [
    "Checking the number of unique values of each column"
   ]
  },
  {
   "cell_type": "code",
   "execution_count": 11,
   "metadata": {},
   "outputs": [
    {
     "data": {
      "text/plain": [
       "gender                          2\n",
       "race_ethnicity                  5\n",
       "parental_level_of_education     6\n",
       "lunch                           2\n",
       "test_preparation_course         2\n",
       "math_score                     81\n",
       "reading_score                  72\n",
       "writing_score                  77\n",
       "dtype: int64"
      ]
     },
     "execution_count": 11,
     "metadata": {},
     "output_type": "execute_result"
    }
   ],
   "source": [
    "df.nunique()"
   ]
  },
  {
   "cell_type": "markdown",
   "metadata": {},
   "source": [
    "Check statistics of data set"
   ]
  },
  {
   "cell_type": "code",
   "execution_count": 12,
   "metadata": {},
   "outputs": [
    {
     "data": {
      "text/html": [
       "<div>\n",
       "<style scoped>\n",
       "    .dataframe tbody tr th:only-of-type {\n",
       "        vertical-align: middle;\n",
       "    }\n",
       "\n",
       "    .dataframe tbody tr th {\n",
       "        vertical-align: top;\n",
       "    }\n",
       "\n",
       "    .dataframe thead th {\n",
       "        text-align: right;\n",
       "    }\n",
       "</style>\n",
       "<table border=\"1\" class=\"dataframe\">\n",
       "  <thead>\n",
       "    <tr style=\"text-align: right;\">\n",
       "      <th></th>\n",
       "      <th>math_score</th>\n",
       "      <th>reading_score</th>\n",
       "      <th>writing_score</th>\n",
       "    </tr>\n",
       "  </thead>\n",
       "  <tbody>\n",
       "    <tr>\n",
       "      <th>count</th>\n",
       "      <td>1000.00000</td>\n",
       "      <td>1000.000000</td>\n",
       "      <td>1000.000000</td>\n",
       "    </tr>\n",
       "    <tr>\n",
       "      <th>mean</th>\n",
       "      <td>66.08900</td>\n",
       "      <td>69.169000</td>\n",
       "      <td>68.054000</td>\n",
       "    </tr>\n",
       "    <tr>\n",
       "      <th>std</th>\n",
       "      <td>15.16308</td>\n",
       "      <td>14.600192</td>\n",
       "      <td>15.195657</td>\n",
       "    </tr>\n",
       "    <tr>\n",
       "      <th>min</th>\n",
       "      <td>0.00000</td>\n",
       "      <td>17.000000</td>\n",
       "      <td>10.000000</td>\n",
       "    </tr>\n",
       "    <tr>\n",
       "      <th>25%</th>\n",
       "      <td>57.00000</td>\n",
       "      <td>59.000000</td>\n",
       "      <td>57.750000</td>\n",
       "    </tr>\n",
       "    <tr>\n",
       "      <th>50%</th>\n",
       "      <td>66.00000</td>\n",
       "      <td>70.000000</td>\n",
       "      <td>69.000000</td>\n",
       "    </tr>\n",
       "    <tr>\n",
       "      <th>75%</th>\n",
       "      <td>77.00000</td>\n",
       "      <td>79.000000</td>\n",
       "      <td>79.000000</td>\n",
       "    </tr>\n",
       "    <tr>\n",
       "      <th>max</th>\n",
       "      <td>100.00000</td>\n",
       "      <td>100.000000</td>\n",
       "      <td>100.000000</td>\n",
       "    </tr>\n",
       "  </tbody>\n",
       "</table>\n",
       "</div>"
      ],
      "text/plain": [
       "       math_score  reading_score  writing_score\n",
       "count  1000.00000    1000.000000    1000.000000\n",
       "mean     66.08900      69.169000      68.054000\n",
       "std      15.16308      14.600192      15.195657\n",
       "min       0.00000      17.000000      10.000000\n",
       "25%      57.00000      59.000000      57.750000\n",
       "50%      66.00000      70.000000      69.000000\n",
       "75%      77.00000      79.000000      79.000000\n",
       "max     100.00000     100.000000     100.000000"
      ]
     },
     "execution_count": 12,
     "metadata": {},
     "output_type": "execute_result"
    }
   ],
   "source": [
    "df.describe()"
   ]
  },
  {
   "cell_type": "markdown",
   "metadata": {},
   "source": [
    "Exploring Data"
   ]
  },
  {
   "cell_type": "code",
   "execution_count": 13,
   "metadata": {},
   "outputs": [
    {
     "data": {
      "text/html": [
       "<div>\n",
       "<style scoped>\n",
       "    .dataframe tbody tr th:only-of-type {\n",
       "        vertical-align: middle;\n",
       "    }\n",
       "\n",
       "    .dataframe tbody tr th {\n",
       "        vertical-align: top;\n",
       "    }\n",
       "\n",
       "    .dataframe thead th {\n",
       "        text-align: right;\n",
       "    }\n",
       "</style>\n",
       "<table border=\"1\" class=\"dataframe\">\n",
       "  <thead>\n",
       "    <tr style=\"text-align: right;\">\n",
       "      <th></th>\n",
       "      <th>gender</th>\n",
       "      <th>race_ethnicity</th>\n",
       "      <th>parental_level_of_education</th>\n",
       "      <th>lunch</th>\n",
       "      <th>test_preparation_course</th>\n",
       "      <th>math_score</th>\n",
       "      <th>reading_score</th>\n",
       "      <th>writing_score</th>\n",
       "    </tr>\n",
       "  </thead>\n",
       "  <tbody>\n",
       "    <tr>\n",
       "      <th>0</th>\n",
       "      <td>female</td>\n",
       "      <td>group B</td>\n",
       "      <td>bachelor's degree</td>\n",
       "      <td>standard</td>\n",
       "      <td>none</td>\n",
       "      <td>72</td>\n",
       "      <td>72</td>\n",
       "      <td>74</td>\n",
       "    </tr>\n",
       "    <tr>\n",
       "      <th>1</th>\n",
       "      <td>female</td>\n",
       "      <td>group C</td>\n",
       "      <td>some college</td>\n",
       "      <td>standard</td>\n",
       "      <td>completed</td>\n",
       "      <td>69</td>\n",
       "      <td>90</td>\n",
       "      <td>88</td>\n",
       "    </tr>\n",
       "    <tr>\n",
       "      <th>2</th>\n",
       "      <td>female</td>\n",
       "      <td>group B</td>\n",
       "      <td>master's degree</td>\n",
       "      <td>standard</td>\n",
       "      <td>none</td>\n",
       "      <td>90</td>\n",
       "      <td>95</td>\n",
       "      <td>93</td>\n",
       "    </tr>\n",
       "    <tr>\n",
       "      <th>3</th>\n",
       "      <td>male</td>\n",
       "      <td>group A</td>\n",
       "      <td>associate's degree</td>\n",
       "      <td>free/reduced</td>\n",
       "      <td>none</td>\n",
       "      <td>47</td>\n",
       "      <td>57</td>\n",
       "      <td>44</td>\n",
       "    </tr>\n",
       "    <tr>\n",
       "      <th>4</th>\n",
       "      <td>male</td>\n",
       "      <td>group C</td>\n",
       "      <td>some college</td>\n",
       "      <td>standard</td>\n",
       "      <td>none</td>\n",
       "      <td>76</td>\n",
       "      <td>78</td>\n",
       "      <td>75</td>\n",
       "    </tr>\n",
       "  </tbody>\n",
       "</table>\n",
       "</div>"
      ],
      "text/plain": [
       "   gender race_ethnicity parental_level_of_education         lunch  \\\n",
       "0  female        group B           bachelor's degree      standard   \n",
       "1  female        group C                some college      standard   \n",
       "2  female        group B             master's degree      standard   \n",
       "3    male        group A          associate's degree  free/reduced   \n",
       "4    male        group C                some college      standard   \n",
       "\n",
       "  test_preparation_course  math_score  reading_score  writing_score  \n",
       "0                    none          72             72             74  \n",
       "1               completed          69             90             88  \n",
       "2                    none          90             95             93  \n",
       "3                    none          47             57             44  \n",
       "4                    none          76             78             75  "
      ]
     },
     "execution_count": 13,
     "metadata": {},
     "output_type": "execute_result"
    }
   ],
   "source": [
    "df.head()"
   ]
  },
  {
   "cell_type": "code",
   "execution_count": 14,
   "metadata": {},
   "outputs": [
    {
     "name": "stdout",
     "output_type": "stream",
     "text": [
      "Categories in 'gender' variable:      ['female' 'male']\n",
      "Categories in 'race_ethnicity' variable:   ['group B' 'group C' 'group A' 'group D' 'group E']\n",
      "Categories in'parental level of education' variable: [\"bachelor's degree\" 'some college' \"master's degree\" \"associate's degree\"\n",
      " 'high school' 'some high school']\n",
      "Categories in 'lunch' variable:      ['standard' 'free/reduced']\n",
      "Categories in 'test preparation course' variable:      ['none' 'completed']\n"
     ]
    }
   ],
   "source": [
    "print(\"Categories in 'gender' variable:     \",end=\" \" )\n",
    "print(df['gender'].unique())\n",
    "\n",
    "print(\"Categories in 'race_ethnicity' variable:  \",end=\" \")\n",
    "print(df['race_ethnicity'].unique())\n",
    "\n",
    "print(\"Categories in'parental level of education' variable:\",end=\" \" )\n",
    "print(df['parental_level_of_education'].unique())\n",
    "\n",
    "print(\"Categories in 'lunch' variable:     \",end=\" \" )\n",
    "print(df['lunch'].unique())\n",
    "\n",
    "print(\"Categories in 'test preparation course' variable:     \",end=\" \" )\n",
    "print(df['test_preparation_course'].unique())"
   ]
  },
  {
   "cell_type": "code",
   "execution_count": 15,
   "metadata": {},
   "outputs": [
    {
     "name": "stdout",
     "output_type": "stream",
     "text": [
      "We have 3 numerical features : ['math_score', 'reading_score', 'writing_score']\n",
      "\n",
      "We have 5 categorical features : ['gender', 'race_ethnicity', 'parental_level_of_education', 'lunch', 'test_preparation_course']\n"
     ]
    }
   ],
   "source": [
    "# define numerical & categorical columns\n",
    "numeric_features = [feature for feature in df.columns if df[feature].dtype != 'O']\n",
    "categorical_features = [feature for feature in df.columns if df[feature].dtype == 'O']\n",
    "\n",
    "# print columns\n",
    "print('We have {} numerical features : {}'.format(len(numeric_features), numeric_features))\n",
    "print('\\nWe have {} categorical features : {}'.format(len(categorical_features), categorical_features))"
   ]
  },
  {
   "cell_type": "code",
   "execution_count": 16,
   "metadata": {},
   "outputs": [
    {
     "data": {
      "text/html": [
       "<div>\n",
       "<style scoped>\n",
       "    .dataframe tbody tr th:only-of-type {\n",
       "        vertical-align: middle;\n",
       "    }\n",
       "\n",
       "    .dataframe tbody tr th {\n",
       "        vertical-align: top;\n",
       "    }\n",
       "\n",
       "    .dataframe thead th {\n",
       "        text-align: right;\n",
       "    }\n",
       "</style>\n",
       "<table border=\"1\" class=\"dataframe\">\n",
       "  <thead>\n",
       "    <tr style=\"text-align: right;\">\n",
       "      <th></th>\n",
       "      <th>gender</th>\n",
       "      <th>race_ethnicity</th>\n",
       "      <th>parental_level_of_education</th>\n",
       "      <th>lunch</th>\n",
       "      <th>test_preparation_course</th>\n",
       "      <th>math_score</th>\n",
       "      <th>reading_score</th>\n",
       "      <th>writing_score</th>\n",
       "    </tr>\n",
       "  </thead>\n",
       "  <tbody>\n",
       "    <tr>\n",
       "      <th>0</th>\n",
       "      <td>female</td>\n",
       "      <td>group B</td>\n",
       "      <td>bachelor's degree</td>\n",
       "      <td>standard</td>\n",
       "      <td>none</td>\n",
       "      <td>72</td>\n",
       "      <td>72</td>\n",
       "      <td>74</td>\n",
       "    </tr>\n",
       "    <tr>\n",
       "      <th>1</th>\n",
       "      <td>female</td>\n",
       "      <td>group C</td>\n",
       "      <td>some college</td>\n",
       "      <td>standard</td>\n",
       "      <td>completed</td>\n",
       "      <td>69</td>\n",
       "      <td>90</td>\n",
       "      <td>88</td>\n",
       "    </tr>\n",
       "  </tbody>\n",
       "</table>\n",
       "</div>"
      ],
      "text/plain": [
       "   gender race_ethnicity parental_level_of_education     lunch  \\\n",
       "0  female        group B           bachelor's degree  standard   \n",
       "1  female        group C                some college  standard   \n",
       "\n",
       "  test_preparation_course  math_score  reading_score  writing_score  \n",
       "0                    none          72             72             74  \n",
       "1               completed          69             90             88  "
      ]
     },
     "execution_count": 16,
     "metadata": {},
     "output_type": "execute_result"
    }
   ],
   "source": [
    "df.head(2)"
   ]
  },
  {
   "cell_type": "markdown",
   "metadata": {},
   "source": [
    "Adding columns for \"Total Score\" and \"Average\""
   ]
  },
  {
   "cell_type": "code",
   "execution_count": 17,
   "metadata": {},
   "outputs": [
    {
     "data": {
      "text/html": [
       "<div>\n",
       "<style scoped>\n",
       "    .dataframe tbody tr th:only-of-type {\n",
       "        vertical-align: middle;\n",
       "    }\n",
       "\n",
       "    .dataframe tbody tr th {\n",
       "        vertical-align: top;\n",
       "    }\n",
       "\n",
       "    .dataframe thead th {\n",
       "        text-align: right;\n",
       "    }\n",
       "</style>\n",
       "<table border=\"1\" class=\"dataframe\">\n",
       "  <thead>\n",
       "    <tr style=\"text-align: right;\">\n",
       "      <th></th>\n",
       "      <th>gender</th>\n",
       "      <th>race_ethnicity</th>\n",
       "      <th>parental_level_of_education</th>\n",
       "      <th>lunch</th>\n",
       "      <th>test_preparation_course</th>\n",
       "      <th>math_score</th>\n",
       "      <th>reading_score</th>\n",
       "      <th>writing_score</th>\n",
       "      <th>total score</th>\n",
       "      <th>average</th>\n",
       "    </tr>\n",
       "  </thead>\n",
       "  <tbody>\n",
       "    <tr>\n",
       "      <th>0</th>\n",
       "      <td>female</td>\n",
       "      <td>group B</td>\n",
       "      <td>bachelor's degree</td>\n",
       "      <td>standard</td>\n",
       "      <td>none</td>\n",
       "      <td>72</td>\n",
       "      <td>72</td>\n",
       "      <td>74</td>\n",
       "      <td>218</td>\n",
       "      <td>72.666667</td>\n",
       "    </tr>\n",
       "    <tr>\n",
       "      <th>1</th>\n",
       "      <td>female</td>\n",
       "      <td>group C</td>\n",
       "      <td>some college</td>\n",
       "      <td>standard</td>\n",
       "      <td>completed</td>\n",
       "      <td>69</td>\n",
       "      <td>90</td>\n",
       "      <td>88</td>\n",
       "      <td>247</td>\n",
       "      <td>82.333333</td>\n",
       "    </tr>\n",
       "    <tr>\n",
       "      <th>2</th>\n",
       "      <td>female</td>\n",
       "      <td>group B</td>\n",
       "      <td>master's degree</td>\n",
       "      <td>standard</td>\n",
       "      <td>none</td>\n",
       "      <td>90</td>\n",
       "      <td>95</td>\n",
       "      <td>93</td>\n",
       "      <td>278</td>\n",
       "      <td>92.666667</td>\n",
       "    </tr>\n",
       "    <tr>\n",
       "      <th>3</th>\n",
       "      <td>male</td>\n",
       "      <td>group A</td>\n",
       "      <td>associate's degree</td>\n",
       "      <td>free/reduced</td>\n",
       "      <td>none</td>\n",
       "      <td>47</td>\n",
       "      <td>57</td>\n",
       "      <td>44</td>\n",
       "      <td>148</td>\n",
       "      <td>49.333333</td>\n",
       "    </tr>\n",
       "    <tr>\n",
       "      <th>4</th>\n",
       "      <td>male</td>\n",
       "      <td>group C</td>\n",
       "      <td>some college</td>\n",
       "      <td>standard</td>\n",
       "      <td>none</td>\n",
       "      <td>76</td>\n",
       "      <td>78</td>\n",
       "      <td>75</td>\n",
       "      <td>229</td>\n",
       "      <td>76.333333</td>\n",
       "    </tr>\n",
       "  </tbody>\n",
       "</table>\n",
       "</div>"
      ],
      "text/plain": [
       "   gender race_ethnicity parental_level_of_education         lunch  \\\n",
       "0  female        group B           bachelor's degree      standard   \n",
       "1  female        group C                some college      standard   \n",
       "2  female        group B             master's degree      standard   \n",
       "3    male        group A          associate's degree  free/reduced   \n",
       "4    male        group C                some college      standard   \n",
       "\n",
       "  test_preparation_course  math_score  reading_score  writing_score  \\\n",
       "0                    none          72             72             74   \n",
       "1               completed          69             90             88   \n",
       "2                    none          90             95             93   \n",
       "3                    none          47             57             44   \n",
       "4                    none          76             78             75   \n",
       "\n",
       "   total score    average  \n",
       "0          218  72.666667  \n",
       "1          247  82.333333  \n",
       "2          278  92.666667  \n",
       "3          148  49.333333  \n",
       "4          229  76.333333  "
      ]
     },
     "execution_count": 17,
     "metadata": {},
     "output_type": "execute_result"
    }
   ],
   "source": [
    "df['total score'] = df['math_score'] + df['reading_score'] + df['writing_score']\n",
    "df['average'] = df['total score']/3\n",
    "df.head()"
   ]
  },
  {
   "cell_type": "code",
   "execution_count": 18,
   "metadata": {},
   "outputs": [
    {
     "name": "stdout",
     "output_type": "stream",
     "text": [
      "Number of students with full marks in Maths: 7\n",
      "Number of students with full marks in Writing: 14\n",
      "Number of students with full marks in Reading: 17\n"
     ]
    }
   ],
   "source": [
    "reading_full = df[df['reading_score'] == 100]['average'].count()\n",
    "writing_full = df[df['writing_score'] == 100]['average'].count()\n",
    "math_full = df[df['math_score'] == 100]['average'].count()\n",
    "\n",
    "print(f'Number of students with full marks in Maths: {math_full}')\n",
    "print(f'Number of students with full marks in Writing: {writing_full}')\n",
    "print(f'Number of students with full marks in Reading: {reading_full}')"
   ]
  },
  {
   "cell_type": "code",
   "execution_count": 19,
   "metadata": {},
   "outputs": [
    {
     "name": "stdout",
     "output_type": "stream",
     "text": [
      "Number of students with less than 20 marks in Maths: 4\n",
      "Number of students with less than 20 marks in Writing: 3\n",
      "Number of students with less than 20 marks in Reading: 1\n"
     ]
    }
   ],
   "source": [
    "reading_less_20 = df[df['reading_score'] <= 20]['average'].count()\n",
    "writing_less_20 = df[df['writing_score'] <= 20]['average'].count()\n",
    "math_less_20 = df[df['math_score'] <= 20]['average'].count()\n",
    "\n",
    "print(f'Number of students with less than 20 marks in Maths: {math_less_20}')\n",
    "print(f'Number of students with less than 20 marks in Writing: {writing_less_20}')\n",
    "print(f'Number of students with less than 20 marks in Reading: {reading_less_20}')"
   ]
  },
  {
   "cell_type": "markdown",
   "metadata": {},
   "source": [
    "Exploring Data ( Visualization )"
   ]
  },
  {
   "cell_type": "markdown",
   "metadata": {},
   "source": [
    "Histogram & KDE\n"
   ]
  },
  {
   "cell_type": "code",
   "execution_count": 26,
   "metadata": {},
   "outputs": [
    {
     "data": {
      "application/vnd.plotly.v1+json": {
       "config": {
        "plotlyServerURL": "https://plot.ly"
       },
       "data": [
        {
         "alignmentgroup": "True",
         "bingroup": "x",
         "hovertemplate": "lunch=standard<br>average=%{x}<br>count=%{y}<extra></extra>",
         "legendgroup": "standard",
         "marker": {
          "color": "#636efa",
          "pattern": {
           "shape": ""
          }
         },
         "name": "standard",
         "offsetgroup": "standard",
         "orientation": "v",
         "showlegend": true,
         "type": "histogram",
         "x": [
          72.66666666666667,
          82.33333333333333,
          92.66666666666667,
          76.33333333333333,
          77.33333333333333,
          91.66666666666667,
          54.666666666666664,
          45,
          73,
          73.33333333333333,
          53.666666666666664,
          74,
          87.66666666666667,
          66,
          50.333333333333336,
          71.66666666666667,
          59.333333333333336,
          70.33333333333333,
          68.33333333333333,
          69,
          72.33333333333333,
          63,
          40,
          88.66666666666667,
          80.33333333333333,
          79.33333333333333,
          66.33333333333333,
          58.666666666666664,
          58.666666666666664,
          60.666666666666664,
          71,
          82.66666666666667,
          52,
          46.333333333333336,
          80.33333333333333,
          84.33333333333333,
          52,
          58.333333333333336,
          73.33333333333333,
          58.666666666666664,
          64,
          68.66666666666667,
          53.333333333333336,
          60.333333333333336,
          46.333333333333336,
          26,
          79.66666666666667,
          69,
          66,
          48.666666666666664,
          66.33333333333333,
          78.33333333333333,
          72,
          65,
          80.33333333333333,
          70.33333333333333,
          73.66666666666667,
          85.66666666666667,
          64.33333333333333,
          68.33333333333333,
          64.66666666666667,
          71,
          72,
          88.33333333333333,
          50.333333333333336,
          91.33333333333333,
          65.66666666666667,
          95.66666666666667,
          64.33333333333333,
          68.66666666666667,
          55.333333333333336,
          51.333333333333336,
          54.333333333333336,
          99.66666666666667,
          78.33333333333333,
          79.66666666666667,
          58.333333333333336,
          63,
          86.66666666666667,
          90.66666666666667,
          91.33333333333333,
          78.66666666666667,
          89.33333333333333,
          69,
          72,
          79.33333333333333,
          50.333333333333336,
          85,
          80,
          53.666666666666664,
          48.666666666666664,
          60.333333333333336,
          64,
          67,
          73,
          49,
          79.66666666666667,
          82.33333333333333,
          74.66666666666667,
          66,
          70.66666666666667,
          65,
          50,
          63.333333333333336,
          82.33333333333333,
          78,
          51.333333333333336,
          88,
          98.66666666666667,
          76.33333333333333,
          73,
          86.66666666666667,
          82,
          66.66666666666667,
          86.33333333333333,
          75,
          99,
          49,
          68,
          73.66666666666667,
          65.33333333333333,
          84,
          66.66666666666667,
          79.33333333333333,
          64,
          67,
          79.33333333333333,
          56,
          79,
          71.66666666666667,
          64.66666666666667,
          47.333333333333336,
          74.33333333333333,
          68.66666666666667,
          79,
          86.33333333333333,
          80.66666666666667,
          57.666666666666664,
          66,
          81.66666666666667,
          80.33333333333333,
          63.666666666666664,
          71.66666666666667,
          53.666666666666664,
          92.33333333333333,
          68.66666666666667,
          43.666666666666664,
          78.66666666666667,
          85.66666666666667,
          83,
          77.33333333333333,
          66,
          52.333333333333336,
          81.33333333333333,
          82,
          54.333333333333336,
          51,
          72.66666666666667,
          77.33333333333333,
          79.66666666666667,
          65.33333333333333,
          63.666666666666664,
          60.333333333333336,
          48.333333333333336,
          66.66666666666667,
          77.33333333333333,
          52.666666666666664,
          68.33333333333333,
          77.33333333333333,
          74.33333333333333,
          78.66666666666667,
          94,
          72.33333333333333,
          73,
          72.66666666666667,
          91.66666666666667,
          64.33333333333333,
          49.666666666666664,
          68.66666666666667,
          83,
          78,
          90,
          65.66666666666667,
          49,
          46.333333333333336,
          43,
          81.66666666666667,
          89,
          79.33333333333333,
          76.66666666666667,
          71.33333333333333,
          76.33333333333333,
          60,
          71,
          43.333333333333336,
          71,
          77.33333333333333,
          73.33333333333333,
          77.33333333333333,
          68.33333333333333,
          89,
          49,
          76.33333333333333,
          61,
          65.33333333333333,
          66,
          67.33333333333333,
          83.33333333333333,
          77.66666666666667,
          67.66666666666667,
          80,
          77.33333333333333,
          88.66666666666667,
          61.333333333333336,
          78,
          49,
          64,
          39.666666666666664,
          57,
          83,
          90.33333333333333,
          71.66666666666667,
          47.666666666666664,
          65.66666666666667,
          73,
          68.66666666666667,
          73,
          75.66666666666667,
          60,
          88.66666666666667,
          79,
          62,
          58.333333333333336,
          73.66666666666667,
          53.666666666666664,
          66.66666666666667,
          67.66666666666667,
          61.666666666666664,
          86.33333333333333,
          59.666666666666664,
          82.33333333333333,
          56,
          59,
          60,
          80.66666666666667,
          77.33333333333333,
          73.33333333333333,
          91.66666666666667,
          67.33333333333333,
          84,
          77,
          64,
          83,
          94,
          72.66666666666667,
          69,
          63.333333333333336,
          72.66666666666667,
          74,
          70,
          55.666666666666664,
          72,
          89.66666666666667,
          64.66666666666667,
          57.666666666666664,
          60,
          46.333333333333336,
          95.66666666666667,
          58.333333333333336,
          68,
          64.33333333333333,
          79.66666666666667,
          85.33333333333333,
          71.66666666666667,
          81.66666666666667,
          65.66666666666667,
          65.66666666666667,
          75.33333333333333,
          71,
          71.33333333333333,
          63,
          59.666666666666664,
          74.66666666666667,
          85,
          67.66666666666667,
          57.333333333333336,
          68.33333333333333,
          69,
          59,
          86.33333333333333,
          75.66666666666667,
          79.66666666666667,
          77.33333333333333,
          72.66666666666667,
          82.33333333333333,
          45,
          75.33333333333333,
          96.33333333333333,
          85.66666666666667,
          100,
          68.33333333333333,
          72.33333333333333,
          65,
          87.33333333333333,
          80.33333333333333,
          86,
          68.66666666666667,
          79.33333333333333,
          62.333333333333336,
          90.33333333333333,
          76.66666666666667,
          68,
          73.33333333333333,
          63,
          71.33333333333333,
          70.66666666666667,
          52.333333333333336,
          51.666666666666664,
          71.66666666666667,
          58,
          66,
          85.33333333333333,
          86.33333333333333,
          62,
          66,
          51.333333333333336,
          67.66666666666667,
          73,
          78.33333333333333,
          91,
          92,
          81.33333333333333,
          68,
          78,
          88.33333333333333,
          73.33333333333333,
          52.333333333333336,
          59,
          82.66666666666667,
          82.33333333333333,
          71,
          74,
          57.333333333333336,
          87,
          61.333333333333336,
          51.333333333333336,
          62.333333333333336,
          68.66666666666667,
          69.33333333333333,
          51.333333333333336,
          60.333333333333336,
          87,
          70,
          56.333333333333336,
          59.666666666666664,
          74,
          91.66666666666667,
          70.66666666666667,
          79,
          88.66666666666667,
          64.33333333333333,
          96.33333333333333,
          67.66666666666667,
          73.33333333333333,
          46,
          46,
          68.66666666666667,
          67,
          76,
          70.33333333333333,
          92.66666666666667,
          45.333333333333336,
          72,
          93,
          57,
          75.33333333333333,
          54.666666666666664,
          87,
          60.666666666666664,
          91.33333333333333,
          78.66666666666667,
          76,
          74.33333333333333,
          72.33333333333333,
          67,
          61,
          59.666666666666664,
          61,
          66.66666666666667,
          74.33333333333333,
          97,
          69,
          51.666666666666664,
          73,
          76,
          59,
          29.333333333333332,
          78,
          69.66666666666667,
          83.66666666666667,
          62.333333333333336,
          62,
          61,
          91.66666666666667,
          72,
          89.33333333333333,
          66.66666666666667,
          40,
          83,
          86.66666666666667,
          94,
          98.66666666666667,
          51.666666666666664,
          50,
          67,
          68,
          73.66666666666667,
          82.66666666666667,
          82.66666666666667,
          69.66666666666667,
          86.66666666666667,
          78.66666666666667,
          74.33333333333333,
          48,
          77.66666666666667,
          65,
          75.66666666666667,
          64.66666666666667,
          52.666666666666664,
          76.33333333333333,
          74.66666666666667,
          89.66666666666667,
          69.66666666666667,
          77,
          65.33333333333333,
          65.33333333333333,
          87.33333333333333,
          67.33333333333333,
          67,
          68.66666666666667,
          69.33333333333333,
          76.66666666666667,
          74.33333333333333,
          77.66666666666667,
          74.66666666666667,
          60,
          75.66666666666667,
          76,
          71,
          62.666666666666664,
          57,
          65.33333333333333,
          97.66666666666667,
          76,
          51.666666666666664,
          75.66666666666667,
          56,
          82.33333333333333,
          67,
          71.33333333333333,
          80.66666666666667,
          65.33333333333333,
          86,
          64.66666666666667,
          38.666666666666664,
          59,
          85,
          89,
          83.33333333333333,
          99,
          82,
          68,
          74.33333333333333,
          97,
          75.33333333333333,
          46.666666666666664,
          43.666666666666664,
          75.33333333333333,
          72.33333333333333,
          58.666666666666664,
          43,
          90,
          48.666666666666664,
          61,
          85,
          75,
          75,
          82.33333333333333,
          68,
          75,
          71.66666666666667,
          67,
          85.66666666666667,
          69.33333333333333,
          68.33333333333333,
          84,
          90.33333333333333,
          55,
          74.33333333333333,
          53.333333333333336,
          81.66666666666667,
          62.333333333333336,
          60.666666666666664,
          72.66666666666667,
          70,
          66,
          71.33333333333333,
          49.666666666666664,
          74,
          63.666666666666664,
          69.33333333333333,
          77.66666666666667,
          87,
          83.66666666666667,
          57.666666666666664,
          83.66666666666667,
          42.333333333333336,
          29.666666666666668,
          56.666666666666664,
          83.33333333333333,
          48.333333333333336,
          70,
          61,
          54.666666666666664,
          69.33333333333333,
          76.33333333333333,
          92,
          84.66666666666667,
          75.66666666666667,
          78,
          54.666666666666664,
          39.333333333333336,
          61.666666666666664,
          82.33333333333333,
          78.33333333333333,
          89,
          56,
          85.33333333333333,
          89,
          62.333333333333336,
          70,
          58.333333333333336,
          60.666666666666664,
          82.66666666666667,
          51,
          66,
          64.66666666666667,
          78.66666666666667,
          72,
          57.666666666666664,
          86.33333333333333,
          87,
          56,
          66.33333333333333,
          74.66666666666667,
          68.33333333333333,
          64,
          88.33333333333333,
          70,
          60.333333333333336,
          96.66666666666667,
          75,
          49,
          56,
          74,
          93.66666666666667,
          84,
          48,
          54.666666666666664,
          72.66666666666667,
          81.33333333333333,
          82.33333333333333,
          57.333333333333336,
          70.33333333333333,
          71.33333333333333,
          64.33333333333333,
          70.33333333333333,
          52,
          72.66666666666667,
          96,
          87.33333333333333,
          87.33333333333333,
          79,
          63.333333333333336,
          61.333333333333336,
          75,
          86,
          75,
          80.66666666666667,
          52,
          84.66666666666667,
          68,
          78.33333333333333,
          59.666666666666664,
          68,
          100,
          52.333333333333336,
          71.33333333333333,
          92.66666666666667,
          68,
          66,
          91.66666666666667,
          59,
          83.66666666666667,
          71.33333333333333,
          88.33333333333333,
          70.33333333333333,
          62.333333333333336,
          57.666666666666664,
          81.33333333333333,
          79.33333333333333,
          78.33333333333333,
          54.666666666666664,
          66.66666666666667,
          63.666666666666664,
          84,
          97.33333333333333,
          55.666666666666664,
          75.66666666666667,
          59.333333333333336,
          100,
          62.333333333333336,
          68,
          66,
          62,
          70.33333333333333,
          79.66666666666667,
          96.33333333333333,
          73,
          61.333333333333336,
          74.33333333333333,
          61.666666666666664,
          48,
          93.33333333333333,
          79,
          83.33333333333333,
          85.33333333333333,
          77,
          54,
          50,
          77.33333333333333,
          75,
          62.666666666666664,
          94,
          74.33333333333333
         ],
         "xaxis": "x",
         "yaxis": "y"
        },
        {
         "alignmentgroup": "True",
         "bingroup": "x",
         "hovertemplate": "lunch=free/reduced<br>average=%{x}<br>count=%{y}<extra></extra>",
         "legendgroup": "free/reduced",
         "marker": {
          "color": "#EF553B",
          "pattern": {
           "shape": ""
          }
         },
         "name": "free/reduced",
         "offsetgroup": "free/reduced",
         "orientation": "v",
         "showlegend": true,
         "type": "histogram",
         "x": [
          49.333333333333336,
          40.666666666666664,
          65,
          49.333333333333336,
          26,
          44.666666666666664,
          57.666666666666664,
          70,
          75,
          73,
          64.33333333333333,
          57.666666666666664,
          84.33333333333333,
          56.666666666666664,
          56.666666666666664,
          63.333333333333336,
          53.333333333333336,
          69,
          71.33333333333333,
          80.66666666666667,
          39,
          9,
          75,
          37.333333333333336,
          59.333333333333336,
          39.666666666666664,
          58.333333333333336,
          64.66666666666667,
          46.666666666666664,
          58,
          41,
          46.333333333333336,
          50.333333333333336,
          38.333333333333336,
          82.33333333333333,
          32.333333333333336,
          46,
          80.33333333333333,
          62.333333333333336,
          66,
          88,
          80.66666666666667,
          58.666666666666664,
          43.333333333333336,
          77,
          76,
          61.666666666666664,
          50.333333333333336,
          31.333333333333332,
          69,
          97.66666666666667,
          72.66666666666667,
          60,
          64,
          78,
          82.66666666666667,
          51.333333333333336,
          51.666666666666664,
          70.66666666666667,
          70.66666666666667,
          49.333333333333336,
          52.666666666666664,
          61.333333333333336,
          68.33333333333333,
          58.666666666666664,
          48.666666666666664,
          65.66666666666667,
          48.333333333333336,
          64.33333333333333,
          54,
          51,
          77.66666666666667,
          74.33333333333333,
          77,
          61.666666666666664,
          79.33333333333333,
          30,
          54.666666666666664,
          55.666666666666664,
          85.66666666666667,
          38.333333333333336,
          71,
          60.666666666666664,
          51.666666666666664,
          68,
          65.33333333333333,
          69,
          79,
          68.33333333333333,
          75.66666666666667,
          73.33333333333333,
          48.333333333333336,
          47.333333333333336,
          72.33333333333333,
          52.666666666666664,
          77,
          62,
          78.66666666666667,
          75.33333333333333,
          79.66666666666667,
          78.33333333333333,
          63,
          45.333333333333336,
          84,
          80,
          54,
          63.666666666666664,
          52.666666666666664,
          68,
          61.333333333333336,
          76.66666666666667,
          49.666666666666664,
          43.333333333333336,
          23.333333333333332,
          65,
          29.666666666666668,
          50,
          57,
          71.66666666666667,
          59,
          60.666666666666664,
          31,
          55.666666666666664,
          62.666666666666664,
          55.333333333333336,
          62.666666666666664,
          43.333333333333336,
          93.33333333333333,
          77,
          44,
          41.333333333333336,
          67.33333333333333,
          66.33333333333333,
          44.666666666666664,
          60,
          56.333333333333336,
          55,
          67.33333333333333,
          55.666666666666664,
          89.33333333333333,
          57.333333333333336,
          38,
          63.666666666666664,
          68.33333333333333,
          59,
          61.666666666666664,
          63,
          52,
          50.333333333333336,
          71.33333333333333,
          67,
          78,
          65,
          78,
          72,
          57.333333333333336,
          58.666666666666664,
          46.666666666666664,
          51.666666666666664,
          55.333333333333336,
          51,
          86,
          31.666666666666668,
          68,
          83.33333333333333,
          55.666666666666664,
          65.66666666666667,
          54.666666666666664,
          69.66666666666667,
          81,
          75.33333333333333,
          71,
          59.333333333333336,
          51,
          56,
          54.333333333333336,
          89.33333333333333,
          74.66666666666667,
          54.333333333333336,
          59,
          44,
          39,
          77.33333333333333,
          80.33333333333333,
          80.33333333333333,
          64.33333333333333,
          73.33333333333333,
          88.33333333333333,
          67.66666666666667,
          34.666666666666664,
          64.66666666666667,
          64.33333333333333,
          74.33333333333333,
          48.333333333333336,
          97.33333333333333,
          70,
          52.666666666666664,
          67.66666666666667,
          60,
          49.333333333333336,
          54,
          71.33333333333333,
          56.333333333333336,
          56.333333333333336,
          23,
          56,
          87.66666666666667,
          50.666666666666664,
          64,
          68.66666666666667,
          50,
          60.333333333333336,
          53.666666666666664,
          60.333333333333336,
          67.33333333333333,
          50.666666666666664,
          76,
          84,
          77.33333333333333,
          64.66666666666667,
          53.333333333333336,
          69.33333333333333,
          53.666666666666664,
          74.66666666666667,
          65,
          56.666666666666664,
          69,
          83,
          70,
          53,
          78,
          61.333333333333336,
          37.666666666666664,
          76,
          51.666666666666664,
          88.66666666666667,
          75.66666666666667,
          73.66666666666667,
          84.66666666666667,
          63.666666666666664,
          62,
          66.33333333333333,
          53.666666666666664,
          85.66666666666667,
          81.33333333333333,
          68,
          57.666666666666664,
          84,
          83,
          75,
          48,
          56,
          64,
          58.666666666666664,
          50,
          52.333333333333336,
          56.333333333333336,
          77,
          55.333333333333336,
          70,
          58.666666666666664,
          63,
          58.333333333333336,
          63.666666666666664,
          73,
          54,
          40.666666666666664,
          53,
          81,
          76,
          64.66666666666667,
          59.333333333333336,
          65.33333333333333,
          69.66666666666667,
          66,
          78.33333333333333,
          76.66666666666667,
          71,
          42,
          47,
          69,
          66.66666666666667,
          87,
          50.666666666666664,
          80,
          52.666666666666664,
          64.66666666666667,
          78.66666666666667,
          59.333333333333336,
          83,
          56,
          45.666666666666664,
          34.333333333333336,
          75.66666666666667,
          56.333333333333336,
          69.33333333333333,
          77.33333333333333,
          84.66666666666667,
          39.666666666666664,
          54.666666666666664,
          74.66666666666667,
          50.333333333333336,
          87.33333333333333,
          55.333333333333336,
          70,
          69.33333333333333,
          48.333333333333336,
          61.666666666666664,
          69.33333333333333,
          47.666666666666664,
          63.333333333333336,
          34.666666666666664,
          30.666666666666668,
          73.33333333333333,
          41,
          97.66666666666667,
          78.33333333333333,
          71.33333333333333,
          46.666666666666664,
          58.333333333333336,
          54,
          68.66666666666667,
          44.666666666666664,
          61.333333333333336,
          71,
          57.333333333333336,
          65.66666666666667,
          44.333333333333336,
          51.666666666666664,
          70.33333333333333,
          60.333333333333336,
          68.33333333333333,
          73,
          63.666666666666664,
          57.333333333333336,
          70,
          61.333333333333336,
          55.666666666666664,
          50.333333333333336,
          68.33333333333333,
          73.33333333333333,
          51.666666666666664,
          72,
          54.333333333333336,
          58.333333333333336,
          60.666666666666664,
          18.333333333333332,
          44.666666666666664,
          78.66666666666667,
          80.66666666666667,
          69,
          69.33333333333333,
          57.333333333333336,
          65,
          83
         ],
         "xaxis": "x",
         "yaxis": "y"
        }
       ],
       "layout": {
        "barmode": "relative",
        "legend": {
         "title": {
          "text": "lunch"
         },
         "tracegroupgap": 0
        },
        "margin": {
         "t": 60
        },
        "template": {
         "data": {
          "bar": [
           {
            "error_x": {
             "color": "#2a3f5f"
            },
            "error_y": {
             "color": "#2a3f5f"
            },
            "marker": {
             "line": {
              "color": "#E5ECF6",
              "width": 0.5
             },
             "pattern": {
              "fillmode": "overlay",
              "size": 10,
              "solidity": 0.2
             }
            },
            "type": "bar"
           }
          ],
          "barpolar": [
           {
            "marker": {
             "line": {
              "color": "#E5ECF6",
              "width": 0.5
             },
             "pattern": {
              "fillmode": "overlay",
              "size": 10,
              "solidity": 0.2
             }
            },
            "type": "barpolar"
           }
          ],
          "carpet": [
           {
            "aaxis": {
             "endlinecolor": "#2a3f5f",
             "gridcolor": "white",
             "linecolor": "white",
             "minorgridcolor": "white",
             "startlinecolor": "#2a3f5f"
            },
            "baxis": {
             "endlinecolor": "#2a3f5f",
             "gridcolor": "white",
             "linecolor": "white",
             "minorgridcolor": "white",
             "startlinecolor": "#2a3f5f"
            },
            "type": "carpet"
           }
          ],
          "choropleth": [
           {
            "colorbar": {
             "outlinewidth": 0,
             "ticks": ""
            },
            "type": "choropleth"
           }
          ],
          "contour": [
           {
            "colorbar": {
             "outlinewidth": 0,
             "ticks": ""
            },
            "colorscale": [
             [
              0,
              "#0d0887"
             ],
             [
              0.1111111111111111,
              "#46039f"
             ],
             [
              0.2222222222222222,
              "#7201a8"
             ],
             [
              0.3333333333333333,
              "#9c179e"
             ],
             [
              0.4444444444444444,
              "#bd3786"
             ],
             [
              0.5555555555555556,
              "#d8576b"
             ],
             [
              0.6666666666666666,
              "#ed7953"
             ],
             [
              0.7777777777777778,
              "#fb9f3a"
             ],
             [
              0.8888888888888888,
              "#fdca26"
             ],
             [
              1,
              "#f0f921"
             ]
            ],
            "type": "contour"
           }
          ],
          "contourcarpet": [
           {
            "colorbar": {
             "outlinewidth": 0,
             "ticks": ""
            },
            "type": "contourcarpet"
           }
          ],
          "heatmap": [
           {
            "colorbar": {
             "outlinewidth": 0,
             "ticks": ""
            },
            "colorscale": [
             [
              0,
              "#0d0887"
             ],
             [
              0.1111111111111111,
              "#46039f"
             ],
             [
              0.2222222222222222,
              "#7201a8"
             ],
             [
              0.3333333333333333,
              "#9c179e"
             ],
             [
              0.4444444444444444,
              "#bd3786"
             ],
             [
              0.5555555555555556,
              "#d8576b"
             ],
             [
              0.6666666666666666,
              "#ed7953"
             ],
             [
              0.7777777777777778,
              "#fb9f3a"
             ],
             [
              0.8888888888888888,
              "#fdca26"
             ],
             [
              1,
              "#f0f921"
             ]
            ],
            "type": "heatmap"
           }
          ],
          "heatmapgl": [
           {
            "colorbar": {
             "outlinewidth": 0,
             "ticks": ""
            },
            "colorscale": [
             [
              0,
              "#0d0887"
             ],
             [
              0.1111111111111111,
              "#46039f"
             ],
             [
              0.2222222222222222,
              "#7201a8"
             ],
             [
              0.3333333333333333,
              "#9c179e"
             ],
             [
              0.4444444444444444,
              "#bd3786"
             ],
             [
              0.5555555555555556,
              "#d8576b"
             ],
             [
              0.6666666666666666,
              "#ed7953"
             ],
             [
              0.7777777777777778,
              "#fb9f3a"
             ],
             [
              0.8888888888888888,
              "#fdca26"
             ],
             [
              1,
              "#f0f921"
             ]
            ],
            "type": "heatmapgl"
           }
          ],
          "histogram": [
           {
            "marker": {
             "pattern": {
              "fillmode": "overlay",
              "size": 10,
              "solidity": 0.2
             }
            },
            "type": "histogram"
           }
          ],
          "histogram2d": [
           {
            "colorbar": {
             "outlinewidth": 0,
             "ticks": ""
            },
            "colorscale": [
             [
              0,
              "#0d0887"
             ],
             [
              0.1111111111111111,
              "#46039f"
             ],
             [
              0.2222222222222222,
              "#7201a8"
             ],
             [
              0.3333333333333333,
              "#9c179e"
             ],
             [
              0.4444444444444444,
              "#bd3786"
             ],
             [
              0.5555555555555556,
              "#d8576b"
             ],
             [
              0.6666666666666666,
              "#ed7953"
             ],
             [
              0.7777777777777778,
              "#fb9f3a"
             ],
             [
              0.8888888888888888,
              "#fdca26"
             ],
             [
              1,
              "#f0f921"
             ]
            ],
            "type": "histogram2d"
           }
          ],
          "histogram2dcontour": [
           {
            "colorbar": {
             "outlinewidth": 0,
             "ticks": ""
            },
            "colorscale": [
             [
              0,
              "#0d0887"
             ],
             [
              0.1111111111111111,
              "#46039f"
             ],
             [
              0.2222222222222222,
              "#7201a8"
             ],
             [
              0.3333333333333333,
              "#9c179e"
             ],
             [
              0.4444444444444444,
              "#bd3786"
             ],
             [
              0.5555555555555556,
              "#d8576b"
             ],
             [
              0.6666666666666666,
              "#ed7953"
             ],
             [
              0.7777777777777778,
              "#fb9f3a"
             ],
             [
              0.8888888888888888,
              "#fdca26"
             ],
             [
              1,
              "#f0f921"
             ]
            ],
            "type": "histogram2dcontour"
           }
          ],
          "mesh3d": [
           {
            "colorbar": {
             "outlinewidth": 0,
             "ticks": ""
            },
            "type": "mesh3d"
           }
          ],
          "parcoords": [
           {
            "line": {
             "colorbar": {
              "outlinewidth": 0,
              "ticks": ""
             }
            },
            "type": "parcoords"
           }
          ],
          "pie": [
           {
            "automargin": true,
            "type": "pie"
           }
          ],
          "scatter": [
           {
            "fillpattern": {
             "fillmode": "overlay",
             "size": 10,
             "solidity": 0.2
            },
            "type": "scatter"
           }
          ],
          "scatter3d": [
           {
            "line": {
             "colorbar": {
              "outlinewidth": 0,
              "ticks": ""
             }
            },
            "marker": {
             "colorbar": {
              "outlinewidth": 0,
              "ticks": ""
             }
            },
            "type": "scatter3d"
           }
          ],
          "scattercarpet": [
           {
            "marker": {
             "colorbar": {
              "outlinewidth": 0,
              "ticks": ""
             }
            },
            "type": "scattercarpet"
           }
          ],
          "scattergeo": [
           {
            "marker": {
             "colorbar": {
              "outlinewidth": 0,
              "ticks": ""
             }
            },
            "type": "scattergeo"
           }
          ],
          "scattergl": [
           {
            "marker": {
             "colorbar": {
              "outlinewidth": 0,
              "ticks": ""
             }
            },
            "type": "scattergl"
           }
          ],
          "scattermapbox": [
           {
            "marker": {
             "colorbar": {
              "outlinewidth": 0,
              "ticks": ""
             }
            },
            "type": "scattermapbox"
           }
          ],
          "scatterpolar": [
           {
            "marker": {
             "colorbar": {
              "outlinewidth": 0,
              "ticks": ""
             }
            },
            "type": "scatterpolar"
           }
          ],
          "scatterpolargl": [
           {
            "marker": {
             "colorbar": {
              "outlinewidth": 0,
              "ticks": ""
             }
            },
            "type": "scatterpolargl"
           }
          ],
          "scatterternary": [
           {
            "marker": {
             "colorbar": {
              "outlinewidth": 0,
              "ticks": ""
             }
            },
            "type": "scatterternary"
           }
          ],
          "surface": [
           {
            "colorbar": {
             "outlinewidth": 0,
             "ticks": ""
            },
            "colorscale": [
             [
              0,
              "#0d0887"
             ],
             [
              0.1111111111111111,
              "#46039f"
             ],
             [
              0.2222222222222222,
              "#7201a8"
             ],
             [
              0.3333333333333333,
              "#9c179e"
             ],
             [
              0.4444444444444444,
              "#bd3786"
             ],
             [
              0.5555555555555556,
              "#d8576b"
             ],
             [
              0.6666666666666666,
              "#ed7953"
             ],
             [
              0.7777777777777778,
              "#fb9f3a"
             ],
             [
              0.8888888888888888,
              "#fdca26"
             ],
             [
              1,
              "#f0f921"
             ]
            ],
            "type": "surface"
           }
          ],
          "table": [
           {
            "cells": {
             "fill": {
              "color": "#EBF0F8"
             },
             "line": {
              "color": "white"
             }
            },
            "header": {
             "fill": {
              "color": "#C8D4E3"
             },
             "line": {
              "color": "white"
             }
            },
            "type": "table"
           }
          ]
         },
         "layout": {
          "annotationdefaults": {
           "arrowcolor": "#2a3f5f",
           "arrowhead": 0,
           "arrowwidth": 1
          },
          "autotypenumbers": "strict",
          "coloraxis": {
           "colorbar": {
            "outlinewidth": 0,
            "ticks": ""
           }
          },
          "colorscale": {
           "diverging": [
            [
             0,
             "#8e0152"
            ],
            [
             0.1,
             "#c51b7d"
            ],
            [
             0.2,
             "#de77ae"
            ],
            [
             0.3,
             "#f1b6da"
            ],
            [
             0.4,
             "#fde0ef"
            ],
            [
             0.5,
             "#f7f7f7"
            ],
            [
             0.6,
             "#e6f5d0"
            ],
            [
             0.7,
             "#b8e186"
            ],
            [
             0.8,
             "#7fbc41"
            ],
            [
             0.9,
             "#4d9221"
            ],
            [
             1,
             "#276419"
            ]
           ],
           "sequential": [
            [
             0,
             "#0d0887"
            ],
            [
             0.1111111111111111,
             "#46039f"
            ],
            [
             0.2222222222222222,
             "#7201a8"
            ],
            [
             0.3333333333333333,
             "#9c179e"
            ],
            [
             0.4444444444444444,
             "#bd3786"
            ],
            [
             0.5555555555555556,
             "#d8576b"
            ],
            [
             0.6666666666666666,
             "#ed7953"
            ],
            [
             0.7777777777777778,
             "#fb9f3a"
            ],
            [
             0.8888888888888888,
             "#fdca26"
            ],
            [
             1,
             "#f0f921"
            ]
           ],
           "sequentialminus": [
            [
             0,
             "#0d0887"
            ],
            [
             0.1111111111111111,
             "#46039f"
            ],
            [
             0.2222222222222222,
             "#7201a8"
            ],
            [
             0.3333333333333333,
             "#9c179e"
            ],
            [
             0.4444444444444444,
             "#bd3786"
            ],
            [
             0.5555555555555556,
             "#d8576b"
            ],
            [
             0.6666666666666666,
             "#ed7953"
            ],
            [
             0.7777777777777778,
             "#fb9f3a"
            ],
            [
             0.8888888888888888,
             "#fdca26"
            ],
            [
             1,
             "#f0f921"
            ]
           ]
          },
          "colorway": [
           "#636efa",
           "#EF553B",
           "#00cc96",
           "#ab63fa",
           "#FFA15A",
           "#19d3f3",
           "#FF6692",
           "#B6E880",
           "#FF97FF",
           "#FECB52"
          ],
          "font": {
           "color": "#2a3f5f"
          },
          "geo": {
           "bgcolor": "white",
           "lakecolor": "white",
           "landcolor": "#E5ECF6",
           "showlakes": true,
           "showland": true,
           "subunitcolor": "white"
          },
          "hoverlabel": {
           "align": "left"
          },
          "hovermode": "closest",
          "mapbox": {
           "style": "light"
          },
          "paper_bgcolor": "white",
          "plot_bgcolor": "#E5ECF6",
          "polar": {
           "angularaxis": {
            "gridcolor": "white",
            "linecolor": "white",
            "ticks": ""
           },
           "bgcolor": "#E5ECF6",
           "radialaxis": {
            "gridcolor": "white",
            "linecolor": "white",
            "ticks": ""
           }
          },
          "scene": {
           "xaxis": {
            "backgroundcolor": "#E5ECF6",
            "gridcolor": "white",
            "gridwidth": 2,
            "linecolor": "white",
            "showbackground": true,
            "ticks": "",
            "zerolinecolor": "white"
           },
           "yaxis": {
            "backgroundcolor": "#E5ECF6",
            "gridcolor": "white",
            "gridwidth": 2,
            "linecolor": "white",
            "showbackground": true,
            "ticks": "",
            "zerolinecolor": "white"
           },
           "zaxis": {
            "backgroundcolor": "#E5ECF6",
            "gridcolor": "white",
            "gridwidth": 2,
            "linecolor": "white",
            "showbackground": true,
            "ticks": "",
            "zerolinecolor": "white"
           }
          },
          "shapedefaults": {
           "line": {
            "color": "#2a3f5f"
           }
          },
          "ternary": {
           "aaxis": {
            "gridcolor": "white",
            "linecolor": "white",
            "ticks": ""
           },
           "baxis": {
            "gridcolor": "white",
            "linecolor": "white",
            "ticks": ""
           },
           "bgcolor": "#E5ECF6",
           "caxis": {
            "gridcolor": "white",
            "linecolor": "white",
            "ticks": ""
           }
          },
          "title": {
           "x": 0.05
          },
          "xaxis": {
           "automargin": true,
           "gridcolor": "white",
           "linecolor": "white",
           "ticks": "",
           "title": {
            "standoff": 15
           },
           "zerolinecolor": "white",
           "zerolinewidth": 2
          },
          "yaxis": {
           "automargin": true,
           "gridcolor": "white",
           "linecolor": "white",
           "ticks": "",
           "title": {
            "standoff": 15
           },
           "zerolinecolor": "white",
           "zerolinewidth": 2
          }
         }
        },
        "xaxis": {
         "anchor": "y",
         "domain": [
          0,
          1
         ],
         "title": {
          "text": "average"
         }
        },
        "yaxis": {
         "anchor": "x",
         "domain": [
          0,
          1
         ],
         "title": {
          "text": "count"
         }
        }
       }
      }
     },
     "metadata": {},
     "output_type": "display_data"
    }
   ],
   "source": [
    "import plotly.express as px\n",
    "fig = px.histogram(df, x='average', color=\"lunch\")\n",
    "fig.show()"
   ]
  },
  {
   "cell_type": "code",
   "execution_count": 27,
   "metadata": {},
   "outputs": [
    {
     "data": {
      "application/vnd.plotly.v1+json": {
       "config": {
        "plotlyServerURL": "https://plot.ly"
       },
       "data": [
        {
         "alignmentgroup": "True",
         "bingroup": "x",
         "hovertemplate": "lunch=standard<br>total score=%{x}<br>count=%{y}<extra></extra>",
         "legendgroup": "standard",
         "marker": {
          "color": "#636efa",
          "pattern": {
           "shape": ""
          }
         },
         "name": "standard",
         "offsetgroup": "standard",
         "orientation": "v",
         "showlegend": true,
         "type": "histogram",
         "x": [
          218,
          247,
          278,
          229,
          232,
          275,
          164,
          135,
          219,
          220,
          161,
          222,
          263,
          198,
          151,
          215,
          178,
          211,
          205,
          207,
          217,
          189,
          120,
          266,
          241,
          238,
          199,
          176,
          176,
          182,
          213,
          248,
          156,
          139,
          241,
          253,
          156,
          175,
          220,
          176,
          192,
          206,
          160,
          181,
          139,
          78,
          239,
          207,
          198,
          146,
          199,
          235,
          216,
          195,
          241,
          211,
          221,
          257,
          193,
          205,
          194,
          213,
          216,
          265,
          151,
          274,
          197,
          287,
          193,
          206,
          166,
          154,
          163,
          299,
          235,
          239,
          175,
          189,
          260,
          272,
          274,
          236,
          268,
          207,
          216,
          238,
          151,
          255,
          240,
          161,
          146,
          181,
          192,
          201,
          219,
          147,
          239,
          247,
          224,
          198,
          212,
          195,
          150,
          190,
          247,
          234,
          154,
          264,
          296,
          229,
          219,
          260,
          246,
          200,
          259,
          225,
          297,
          147,
          204,
          221,
          196,
          252,
          200,
          238,
          192,
          201,
          238,
          168,
          237,
          215,
          194,
          142,
          223,
          206,
          237,
          259,
          242,
          173,
          198,
          245,
          241,
          191,
          215,
          161,
          277,
          206,
          131,
          236,
          257,
          249,
          232,
          198,
          157,
          244,
          246,
          163,
          153,
          218,
          232,
          239,
          196,
          191,
          181,
          145,
          200,
          232,
          158,
          205,
          232,
          223,
          236,
          282,
          217,
          219,
          218,
          275,
          193,
          149,
          206,
          249,
          234,
          270,
          197,
          147,
          139,
          129,
          245,
          267,
          238,
          230,
          214,
          229,
          180,
          213,
          130,
          213,
          232,
          220,
          232,
          205,
          267,
          147,
          229,
          183,
          196,
          198,
          202,
          250,
          233,
          203,
          240,
          232,
          266,
          184,
          234,
          147,
          192,
          119,
          171,
          249,
          271,
          215,
          143,
          197,
          219,
          206,
          219,
          227,
          180,
          266,
          237,
          186,
          175,
          221,
          161,
          200,
          203,
          185,
          259,
          179,
          247,
          168,
          177,
          180,
          242,
          232,
          220,
          275,
          202,
          252,
          231,
          192,
          249,
          282,
          218,
          207,
          190,
          218,
          222,
          210,
          167,
          216,
          269,
          194,
          173,
          180,
          139,
          287,
          175,
          204,
          193,
          239,
          256,
          215,
          245,
          197,
          197,
          226,
          213,
          214,
          189,
          179,
          224,
          255,
          203,
          172,
          205,
          207,
          177,
          259,
          227,
          239,
          232,
          218,
          247,
          135,
          226,
          289,
          257,
          300,
          205,
          217,
          195,
          262,
          241,
          258,
          206,
          238,
          187,
          271,
          230,
          204,
          220,
          189,
          214,
          212,
          157,
          155,
          215,
          174,
          198,
          256,
          259,
          186,
          198,
          154,
          203,
          219,
          235,
          273,
          276,
          244,
          204,
          234,
          265,
          220,
          157,
          177,
          248,
          247,
          213,
          222,
          172,
          261,
          184,
          154,
          187,
          206,
          208,
          154,
          181,
          261,
          210,
          169,
          179,
          222,
          275,
          212,
          237,
          266,
          193,
          289,
          203,
          220,
          138,
          138,
          206,
          201,
          228,
          211,
          278,
          136,
          216,
          279,
          171,
          226,
          164,
          261,
          182,
          274,
          236,
          228,
          223,
          217,
          201,
          183,
          179,
          183,
          200,
          223,
          291,
          207,
          155,
          219,
          228,
          177,
          88,
          234,
          209,
          251,
          187,
          186,
          183,
          275,
          216,
          268,
          200,
          120,
          249,
          260,
          282,
          296,
          155,
          150,
          201,
          204,
          221,
          248,
          248,
          209,
          260,
          236,
          223,
          144,
          233,
          195,
          227,
          194,
          158,
          229,
          224,
          269,
          209,
          231,
          196,
          196,
          262,
          202,
          201,
          206,
          208,
          230,
          223,
          233,
          224,
          180,
          227,
          228,
          213,
          188,
          171,
          196,
          293,
          228,
          155,
          227,
          168,
          247,
          201,
          214,
          242,
          196,
          258,
          194,
          116,
          177,
          255,
          267,
          250,
          297,
          246,
          204,
          223,
          291,
          226,
          140,
          131,
          226,
          217,
          176,
          129,
          270,
          146,
          183,
          255,
          225,
          225,
          247,
          204,
          225,
          215,
          201,
          257,
          208,
          205,
          252,
          271,
          165,
          223,
          160,
          245,
          187,
          182,
          218,
          210,
          198,
          214,
          149,
          222,
          191,
          208,
          233,
          261,
          251,
          173,
          251,
          127,
          89,
          170,
          250,
          145,
          210,
          183,
          164,
          208,
          229,
          276,
          254,
          227,
          234,
          164,
          118,
          185,
          247,
          235,
          267,
          168,
          256,
          267,
          187,
          210,
          175,
          182,
          248,
          153,
          198,
          194,
          236,
          216,
          173,
          259,
          261,
          168,
          199,
          224,
          205,
          192,
          265,
          210,
          181,
          290,
          225,
          147,
          168,
          222,
          281,
          252,
          144,
          164,
          218,
          244,
          247,
          172,
          211,
          214,
          193,
          211,
          156,
          218,
          288,
          262,
          262,
          237,
          190,
          184,
          225,
          258,
          225,
          242,
          156,
          254,
          204,
          235,
          179,
          204,
          300,
          157,
          214,
          278,
          204,
          198,
          275,
          177,
          251,
          214,
          265,
          211,
          187,
          173,
          244,
          238,
          235,
          164,
          200,
          191,
          252,
          292,
          167,
          227,
          178,
          300,
          187,
          204,
          198,
          186,
          211,
          239,
          289,
          219,
          184,
          223,
          185,
          144,
          280,
          237,
          250,
          256,
          231,
          162,
          150,
          232,
          225,
          188,
          282,
          223
         ],
         "xaxis": "x",
         "yaxis": "y"
        },
        {
         "alignmentgroup": "True",
         "bingroup": "x",
         "hovertemplate": "lunch=free/reduced<br>total score=%{x}<br>count=%{y}<extra></extra>",
         "legendgroup": "free/reduced",
         "marker": {
          "color": "#EF553B",
          "pattern": {
           "shape": ""
          }
         },
         "name": "free/reduced",
         "offsetgroup": "free/reduced",
         "orientation": "v",
         "showlegend": true,
         "type": "histogram",
         "x": [
          148,
          122,
          195,
          148,
          78,
          134,
          173,
          210,
          225,
          219,
          193,
          173,
          253,
          170,
          170,
          190,
          160,
          207,
          214,
          242,
          117,
          27,
          225,
          112,
          178,
          119,
          175,
          194,
          140,
          174,
          123,
          139,
          151,
          115,
          247,
          97,
          138,
          241,
          187,
          198,
          264,
          242,
          176,
          130,
          231,
          228,
          185,
          151,
          94,
          207,
          293,
          218,
          180,
          192,
          234,
          248,
          154,
          155,
          212,
          212,
          148,
          158,
          184,
          205,
          176,
          146,
          197,
          145,
          193,
          162,
          153,
          233,
          223,
          231,
          185,
          238,
          90,
          164,
          167,
          257,
          115,
          213,
          182,
          155,
          204,
          196,
          207,
          237,
          205,
          227,
          220,
          145,
          142,
          217,
          158,
          231,
          186,
          236,
          226,
          239,
          235,
          189,
          136,
          252,
          240,
          162,
          191,
          158,
          204,
          184,
          230,
          149,
          130,
          70,
          195,
          89,
          150,
          171,
          215,
          177,
          182,
          93,
          167,
          188,
          166,
          188,
          130,
          280,
          231,
          132,
          124,
          202,
          199,
          134,
          180,
          169,
          165,
          202,
          167,
          268,
          172,
          114,
          191,
          205,
          177,
          185,
          189,
          156,
          151,
          214,
          201,
          234,
          195,
          234,
          216,
          172,
          176,
          140,
          155,
          166,
          153,
          258,
          95,
          204,
          250,
          167,
          197,
          164,
          209,
          243,
          226,
          213,
          178,
          153,
          168,
          163,
          268,
          224,
          163,
          177,
          132,
          117,
          232,
          241,
          241,
          193,
          220,
          265,
          203,
          104,
          194,
          193,
          223,
          145,
          292,
          210,
          158,
          203,
          180,
          148,
          162,
          214,
          169,
          169,
          69,
          168,
          263,
          152,
          192,
          206,
          150,
          181,
          161,
          181,
          202,
          152,
          228,
          252,
          232,
          194,
          160,
          208,
          161,
          224,
          195,
          170,
          207,
          249,
          210,
          159,
          234,
          184,
          113,
          228,
          155,
          266,
          227,
          221,
          254,
          191,
          186,
          199,
          161,
          257,
          244,
          204,
          173,
          252,
          249,
          225,
          144,
          168,
          192,
          176,
          150,
          157,
          169,
          231,
          166,
          210,
          176,
          189,
          175,
          191,
          219,
          162,
          122,
          159,
          243,
          228,
          194,
          178,
          196,
          209,
          198,
          235,
          230,
          213,
          126,
          141,
          207,
          200,
          261,
          152,
          240,
          158,
          194,
          236,
          178,
          249,
          168,
          137,
          103,
          227,
          169,
          208,
          232,
          254,
          119,
          164,
          224,
          151,
          262,
          166,
          210,
          208,
          145,
          185,
          208,
          143,
          190,
          104,
          92,
          220,
          123,
          293,
          235,
          214,
          140,
          175,
          162,
          206,
          134,
          184,
          213,
          172,
          197,
          133,
          155,
          211,
          181,
          205,
          219,
          191,
          172,
          210,
          184,
          167,
          151,
          205,
          220,
          155,
          216,
          163,
          175,
          182,
          55,
          134,
          236,
          242,
          207,
          208,
          172,
          195,
          249
         ],
         "xaxis": "x",
         "yaxis": "y"
        }
       ],
       "layout": {
        "barmode": "relative",
        "legend": {
         "title": {
          "text": "lunch"
         },
         "tracegroupgap": 0
        },
        "margin": {
         "t": 60
        },
        "template": {
         "data": {
          "bar": [
           {
            "error_x": {
             "color": "#2a3f5f"
            },
            "error_y": {
             "color": "#2a3f5f"
            },
            "marker": {
             "line": {
              "color": "#E5ECF6",
              "width": 0.5
             },
             "pattern": {
              "fillmode": "overlay",
              "size": 10,
              "solidity": 0.2
             }
            },
            "type": "bar"
           }
          ],
          "barpolar": [
           {
            "marker": {
             "line": {
              "color": "#E5ECF6",
              "width": 0.5
             },
             "pattern": {
              "fillmode": "overlay",
              "size": 10,
              "solidity": 0.2
             }
            },
            "type": "barpolar"
           }
          ],
          "carpet": [
           {
            "aaxis": {
             "endlinecolor": "#2a3f5f",
             "gridcolor": "white",
             "linecolor": "white",
             "minorgridcolor": "white",
             "startlinecolor": "#2a3f5f"
            },
            "baxis": {
             "endlinecolor": "#2a3f5f",
             "gridcolor": "white",
             "linecolor": "white",
             "minorgridcolor": "white",
             "startlinecolor": "#2a3f5f"
            },
            "type": "carpet"
           }
          ],
          "choropleth": [
           {
            "colorbar": {
             "outlinewidth": 0,
             "ticks": ""
            },
            "type": "choropleth"
           }
          ],
          "contour": [
           {
            "colorbar": {
             "outlinewidth": 0,
             "ticks": ""
            },
            "colorscale": [
             [
              0,
              "#0d0887"
             ],
             [
              0.1111111111111111,
              "#46039f"
             ],
             [
              0.2222222222222222,
              "#7201a8"
             ],
             [
              0.3333333333333333,
              "#9c179e"
             ],
             [
              0.4444444444444444,
              "#bd3786"
             ],
             [
              0.5555555555555556,
              "#d8576b"
             ],
             [
              0.6666666666666666,
              "#ed7953"
             ],
             [
              0.7777777777777778,
              "#fb9f3a"
             ],
             [
              0.8888888888888888,
              "#fdca26"
             ],
             [
              1,
              "#f0f921"
             ]
            ],
            "type": "contour"
           }
          ],
          "contourcarpet": [
           {
            "colorbar": {
             "outlinewidth": 0,
             "ticks": ""
            },
            "type": "contourcarpet"
           }
          ],
          "heatmap": [
           {
            "colorbar": {
             "outlinewidth": 0,
             "ticks": ""
            },
            "colorscale": [
             [
              0,
              "#0d0887"
             ],
             [
              0.1111111111111111,
              "#46039f"
             ],
             [
              0.2222222222222222,
              "#7201a8"
             ],
             [
              0.3333333333333333,
              "#9c179e"
             ],
             [
              0.4444444444444444,
              "#bd3786"
             ],
             [
              0.5555555555555556,
              "#d8576b"
             ],
             [
              0.6666666666666666,
              "#ed7953"
             ],
             [
              0.7777777777777778,
              "#fb9f3a"
             ],
             [
              0.8888888888888888,
              "#fdca26"
             ],
             [
              1,
              "#f0f921"
             ]
            ],
            "type": "heatmap"
           }
          ],
          "heatmapgl": [
           {
            "colorbar": {
             "outlinewidth": 0,
             "ticks": ""
            },
            "colorscale": [
             [
              0,
              "#0d0887"
             ],
             [
              0.1111111111111111,
              "#46039f"
             ],
             [
              0.2222222222222222,
              "#7201a8"
             ],
             [
              0.3333333333333333,
              "#9c179e"
             ],
             [
              0.4444444444444444,
              "#bd3786"
             ],
             [
              0.5555555555555556,
              "#d8576b"
             ],
             [
              0.6666666666666666,
              "#ed7953"
             ],
             [
              0.7777777777777778,
              "#fb9f3a"
             ],
             [
              0.8888888888888888,
              "#fdca26"
             ],
             [
              1,
              "#f0f921"
             ]
            ],
            "type": "heatmapgl"
           }
          ],
          "histogram": [
           {
            "marker": {
             "pattern": {
              "fillmode": "overlay",
              "size": 10,
              "solidity": 0.2
             }
            },
            "type": "histogram"
           }
          ],
          "histogram2d": [
           {
            "colorbar": {
             "outlinewidth": 0,
             "ticks": ""
            },
            "colorscale": [
             [
              0,
              "#0d0887"
             ],
             [
              0.1111111111111111,
              "#46039f"
             ],
             [
              0.2222222222222222,
              "#7201a8"
             ],
             [
              0.3333333333333333,
              "#9c179e"
             ],
             [
              0.4444444444444444,
              "#bd3786"
             ],
             [
              0.5555555555555556,
              "#d8576b"
             ],
             [
              0.6666666666666666,
              "#ed7953"
             ],
             [
              0.7777777777777778,
              "#fb9f3a"
             ],
             [
              0.8888888888888888,
              "#fdca26"
             ],
             [
              1,
              "#f0f921"
             ]
            ],
            "type": "histogram2d"
           }
          ],
          "histogram2dcontour": [
           {
            "colorbar": {
             "outlinewidth": 0,
             "ticks": ""
            },
            "colorscale": [
             [
              0,
              "#0d0887"
             ],
             [
              0.1111111111111111,
              "#46039f"
             ],
             [
              0.2222222222222222,
              "#7201a8"
             ],
             [
              0.3333333333333333,
              "#9c179e"
             ],
             [
              0.4444444444444444,
              "#bd3786"
             ],
             [
              0.5555555555555556,
              "#d8576b"
             ],
             [
              0.6666666666666666,
              "#ed7953"
             ],
             [
              0.7777777777777778,
              "#fb9f3a"
             ],
             [
              0.8888888888888888,
              "#fdca26"
             ],
             [
              1,
              "#f0f921"
             ]
            ],
            "type": "histogram2dcontour"
           }
          ],
          "mesh3d": [
           {
            "colorbar": {
             "outlinewidth": 0,
             "ticks": ""
            },
            "type": "mesh3d"
           }
          ],
          "parcoords": [
           {
            "line": {
             "colorbar": {
              "outlinewidth": 0,
              "ticks": ""
             }
            },
            "type": "parcoords"
           }
          ],
          "pie": [
           {
            "automargin": true,
            "type": "pie"
           }
          ],
          "scatter": [
           {
            "fillpattern": {
             "fillmode": "overlay",
             "size": 10,
             "solidity": 0.2
            },
            "type": "scatter"
           }
          ],
          "scatter3d": [
           {
            "line": {
             "colorbar": {
              "outlinewidth": 0,
              "ticks": ""
             }
            },
            "marker": {
             "colorbar": {
              "outlinewidth": 0,
              "ticks": ""
             }
            },
            "type": "scatter3d"
           }
          ],
          "scattercarpet": [
           {
            "marker": {
             "colorbar": {
              "outlinewidth": 0,
              "ticks": ""
             }
            },
            "type": "scattercarpet"
           }
          ],
          "scattergeo": [
           {
            "marker": {
             "colorbar": {
              "outlinewidth": 0,
              "ticks": ""
             }
            },
            "type": "scattergeo"
           }
          ],
          "scattergl": [
           {
            "marker": {
             "colorbar": {
              "outlinewidth": 0,
              "ticks": ""
             }
            },
            "type": "scattergl"
           }
          ],
          "scattermapbox": [
           {
            "marker": {
             "colorbar": {
              "outlinewidth": 0,
              "ticks": ""
             }
            },
            "type": "scattermapbox"
           }
          ],
          "scatterpolar": [
           {
            "marker": {
             "colorbar": {
              "outlinewidth": 0,
              "ticks": ""
             }
            },
            "type": "scatterpolar"
           }
          ],
          "scatterpolargl": [
           {
            "marker": {
             "colorbar": {
              "outlinewidth": 0,
              "ticks": ""
             }
            },
            "type": "scatterpolargl"
           }
          ],
          "scatterternary": [
           {
            "marker": {
             "colorbar": {
              "outlinewidth": 0,
              "ticks": ""
             }
            },
            "type": "scatterternary"
           }
          ],
          "surface": [
           {
            "colorbar": {
             "outlinewidth": 0,
             "ticks": ""
            },
            "colorscale": [
             [
              0,
              "#0d0887"
             ],
             [
              0.1111111111111111,
              "#46039f"
             ],
             [
              0.2222222222222222,
              "#7201a8"
             ],
             [
              0.3333333333333333,
              "#9c179e"
             ],
             [
              0.4444444444444444,
              "#bd3786"
             ],
             [
              0.5555555555555556,
              "#d8576b"
             ],
             [
              0.6666666666666666,
              "#ed7953"
             ],
             [
              0.7777777777777778,
              "#fb9f3a"
             ],
             [
              0.8888888888888888,
              "#fdca26"
             ],
             [
              1,
              "#f0f921"
             ]
            ],
            "type": "surface"
           }
          ],
          "table": [
           {
            "cells": {
             "fill": {
              "color": "#EBF0F8"
             },
             "line": {
              "color": "white"
             }
            },
            "header": {
             "fill": {
              "color": "#C8D4E3"
             },
             "line": {
              "color": "white"
             }
            },
            "type": "table"
           }
          ]
         },
         "layout": {
          "annotationdefaults": {
           "arrowcolor": "#2a3f5f",
           "arrowhead": 0,
           "arrowwidth": 1
          },
          "autotypenumbers": "strict",
          "coloraxis": {
           "colorbar": {
            "outlinewidth": 0,
            "ticks": ""
           }
          },
          "colorscale": {
           "diverging": [
            [
             0,
             "#8e0152"
            ],
            [
             0.1,
             "#c51b7d"
            ],
            [
             0.2,
             "#de77ae"
            ],
            [
             0.3,
             "#f1b6da"
            ],
            [
             0.4,
             "#fde0ef"
            ],
            [
             0.5,
             "#f7f7f7"
            ],
            [
             0.6,
             "#e6f5d0"
            ],
            [
             0.7,
             "#b8e186"
            ],
            [
             0.8,
             "#7fbc41"
            ],
            [
             0.9,
             "#4d9221"
            ],
            [
             1,
             "#276419"
            ]
           ],
           "sequential": [
            [
             0,
             "#0d0887"
            ],
            [
             0.1111111111111111,
             "#46039f"
            ],
            [
             0.2222222222222222,
             "#7201a8"
            ],
            [
             0.3333333333333333,
             "#9c179e"
            ],
            [
             0.4444444444444444,
             "#bd3786"
            ],
            [
             0.5555555555555556,
             "#d8576b"
            ],
            [
             0.6666666666666666,
             "#ed7953"
            ],
            [
             0.7777777777777778,
             "#fb9f3a"
            ],
            [
             0.8888888888888888,
             "#fdca26"
            ],
            [
             1,
             "#f0f921"
            ]
           ],
           "sequentialminus": [
            [
             0,
             "#0d0887"
            ],
            [
             0.1111111111111111,
             "#46039f"
            ],
            [
             0.2222222222222222,
             "#7201a8"
            ],
            [
             0.3333333333333333,
             "#9c179e"
            ],
            [
             0.4444444444444444,
             "#bd3786"
            ],
            [
             0.5555555555555556,
             "#d8576b"
            ],
            [
             0.6666666666666666,
             "#ed7953"
            ],
            [
             0.7777777777777778,
             "#fb9f3a"
            ],
            [
             0.8888888888888888,
             "#fdca26"
            ],
            [
             1,
             "#f0f921"
            ]
           ]
          },
          "colorway": [
           "#636efa",
           "#EF553B",
           "#00cc96",
           "#ab63fa",
           "#FFA15A",
           "#19d3f3",
           "#FF6692",
           "#B6E880",
           "#FF97FF",
           "#FECB52"
          ],
          "font": {
           "color": "#2a3f5f"
          },
          "geo": {
           "bgcolor": "white",
           "lakecolor": "white",
           "landcolor": "#E5ECF6",
           "showlakes": true,
           "showland": true,
           "subunitcolor": "white"
          },
          "hoverlabel": {
           "align": "left"
          },
          "hovermode": "closest",
          "mapbox": {
           "style": "light"
          },
          "paper_bgcolor": "white",
          "plot_bgcolor": "#E5ECF6",
          "polar": {
           "angularaxis": {
            "gridcolor": "white",
            "linecolor": "white",
            "ticks": ""
           },
           "bgcolor": "#E5ECF6",
           "radialaxis": {
            "gridcolor": "white",
            "linecolor": "white",
            "ticks": ""
           }
          },
          "scene": {
           "xaxis": {
            "backgroundcolor": "#E5ECF6",
            "gridcolor": "white",
            "gridwidth": 2,
            "linecolor": "white",
            "showbackground": true,
            "ticks": "",
            "zerolinecolor": "white"
           },
           "yaxis": {
            "backgroundcolor": "#E5ECF6",
            "gridcolor": "white",
            "gridwidth": 2,
            "linecolor": "white",
            "showbackground": true,
            "ticks": "",
            "zerolinecolor": "white"
           },
           "zaxis": {
            "backgroundcolor": "#E5ECF6",
            "gridcolor": "white",
            "gridwidth": 2,
            "linecolor": "white",
            "showbackground": true,
            "ticks": "",
            "zerolinecolor": "white"
           }
          },
          "shapedefaults": {
           "line": {
            "color": "#2a3f5f"
           }
          },
          "ternary": {
           "aaxis": {
            "gridcolor": "white",
            "linecolor": "white",
            "ticks": ""
           },
           "baxis": {
            "gridcolor": "white",
            "linecolor": "white",
            "ticks": ""
           },
           "bgcolor": "#E5ECF6",
           "caxis": {
            "gridcolor": "white",
            "linecolor": "white",
            "ticks": ""
           }
          },
          "title": {
           "x": 0.05
          },
          "xaxis": {
           "automargin": true,
           "gridcolor": "white",
           "linecolor": "white",
           "ticks": "",
           "title": {
            "standoff": 15
           },
           "zerolinecolor": "white",
           "zerolinewidth": 2
          },
          "yaxis": {
           "automargin": true,
           "gridcolor": "white",
           "linecolor": "white",
           "ticks": "",
           "title": {
            "standoff": 15
           },
           "zerolinecolor": "white",
           "zerolinewidth": 2
          }
         }
        },
        "xaxis": {
         "anchor": "y",
         "domain": [
          0,
          1
         ],
         "title": {
          "text": "total score"
         }
        },
        "yaxis": {
         "anchor": "x",
         "domain": [
          0,
          1
         ],
         "title": {
          "text": "count"
         }
        }
       }
      }
     },
     "metadata": {},
     "output_type": "display_data"
    }
   ],
   "source": [
    "fig = px.histogram(df, x='total score', color=\"lunch\")\n",
    "fig.show()"
   ]
  },
  {
   "cell_type": "code",
   "execution_count": 33,
   "metadata": {},
   "outputs": [
    {
     "data": {
      "application/vnd.plotly.v1+json": {
       "config": {
        "plotlyServerURL": "https://plot.ly"
       },
       "data": [
        {
         "alignmentgroup": "True",
         "bingroup": "x",
         "hovertemplate": "lunch=standard<br>average=%{x}<br>count=%{y}<extra></extra>",
         "legendgroup": "standard",
         "marker": {
          "color": "#636efa",
          "pattern": {
           "shape": ""
          }
         },
         "name": "standard",
         "offsetgroup": "standard",
         "orientation": "v",
         "showlegend": true,
         "type": "histogram",
         "x": [
          72.66666666666667,
          82.33333333333333,
          92.66666666666667,
          76.33333333333333,
          77.33333333333333,
          91.66666666666667,
          54.666666666666664,
          45,
          73,
          73.33333333333333,
          53.666666666666664,
          74,
          87.66666666666667,
          66,
          50.333333333333336,
          71.66666666666667,
          59.333333333333336,
          70.33333333333333,
          68.33333333333333,
          69,
          72.33333333333333,
          63,
          40,
          88.66666666666667,
          80.33333333333333,
          79.33333333333333,
          66.33333333333333,
          58.666666666666664,
          58.666666666666664,
          60.666666666666664,
          71,
          82.66666666666667,
          52,
          46.333333333333336,
          80.33333333333333,
          84.33333333333333,
          52,
          58.333333333333336,
          73.33333333333333,
          58.666666666666664,
          64,
          68.66666666666667,
          53.333333333333336,
          60.333333333333336,
          46.333333333333336,
          26,
          79.66666666666667,
          69,
          66,
          48.666666666666664,
          66.33333333333333,
          78.33333333333333,
          72,
          65,
          80.33333333333333,
          70.33333333333333,
          73.66666666666667,
          85.66666666666667,
          64.33333333333333,
          68.33333333333333,
          64.66666666666667,
          71,
          72,
          88.33333333333333,
          50.333333333333336,
          91.33333333333333,
          65.66666666666667,
          95.66666666666667,
          64.33333333333333,
          68.66666666666667,
          55.333333333333336,
          51.333333333333336,
          54.333333333333336,
          99.66666666666667,
          78.33333333333333,
          79.66666666666667,
          58.333333333333336,
          63,
          86.66666666666667,
          90.66666666666667,
          91.33333333333333,
          78.66666666666667,
          89.33333333333333,
          69,
          72,
          79.33333333333333,
          50.333333333333336,
          85,
          80,
          53.666666666666664,
          48.666666666666664,
          60.333333333333336,
          64,
          67,
          73,
          49,
          79.66666666666667,
          82.33333333333333,
          74.66666666666667,
          66,
          70.66666666666667,
          65,
          50,
          63.333333333333336,
          82.33333333333333,
          78,
          51.333333333333336,
          88,
          98.66666666666667,
          76.33333333333333,
          73,
          86.66666666666667,
          82,
          66.66666666666667,
          86.33333333333333,
          75,
          99,
          49,
          68,
          73.66666666666667,
          65.33333333333333,
          84,
          66.66666666666667,
          79.33333333333333,
          64,
          67,
          79.33333333333333,
          56,
          79,
          71.66666666666667,
          64.66666666666667,
          47.333333333333336,
          74.33333333333333,
          68.66666666666667,
          79,
          86.33333333333333,
          80.66666666666667,
          57.666666666666664,
          66,
          81.66666666666667,
          80.33333333333333,
          63.666666666666664,
          71.66666666666667,
          53.666666666666664,
          92.33333333333333,
          68.66666666666667,
          43.666666666666664,
          78.66666666666667,
          85.66666666666667,
          83,
          77.33333333333333,
          66,
          52.333333333333336,
          81.33333333333333,
          82,
          54.333333333333336,
          51,
          72.66666666666667,
          77.33333333333333,
          79.66666666666667,
          65.33333333333333,
          63.666666666666664,
          60.333333333333336,
          48.333333333333336,
          66.66666666666667,
          77.33333333333333,
          52.666666666666664,
          68.33333333333333,
          77.33333333333333,
          74.33333333333333,
          78.66666666666667,
          94,
          72.33333333333333,
          73,
          72.66666666666667,
          91.66666666666667,
          64.33333333333333,
          49.666666666666664,
          68.66666666666667,
          83,
          78,
          90,
          65.66666666666667,
          49,
          46.333333333333336,
          43,
          81.66666666666667,
          89,
          79.33333333333333,
          76.66666666666667,
          71.33333333333333,
          76.33333333333333,
          60,
          71,
          43.333333333333336,
          71,
          77.33333333333333,
          73.33333333333333,
          77.33333333333333,
          68.33333333333333,
          89,
          49,
          76.33333333333333,
          61,
          65.33333333333333,
          66,
          67.33333333333333,
          83.33333333333333,
          77.66666666666667,
          67.66666666666667,
          80,
          77.33333333333333,
          88.66666666666667,
          61.333333333333336,
          78,
          49,
          64,
          39.666666666666664,
          57,
          83,
          90.33333333333333,
          71.66666666666667,
          47.666666666666664,
          65.66666666666667,
          73,
          68.66666666666667,
          73,
          75.66666666666667,
          60,
          88.66666666666667,
          79,
          62,
          58.333333333333336,
          73.66666666666667,
          53.666666666666664,
          66.66666666666667,
          67.66666666666667,
          61.666666666666664,
          86.33333333333333,
          59.666666666666664,
          82.33333333333333,
          56,
          59,
          60,
          80.66666666666667,
          77.33333333333333,
          73.33333333333333,
          91.66666666666667,
          67.33333333333333,
          84,
          77,
          64,
          83,
          94,
          72.66666666666667,
          69,
          63.333333333333336,
          72.66666666666667,
          74,
          70,
          55.666666666666664,
          72,
          89.66666666666667,
          64.66666666666667,
          57.666666666666664,
          60,
          46.333333333333336,
          95.66666666666667,
          58.333333333333336,
          68,
          64.33333333333333,
          79.66666666666667,
          85.33333333333333,
          71.66666666666667,
          81.66666666666667,
          65.66666666666667,
          65.66666666666667,
          75.33333333333333,
          71,
          71.33333333333333,
          63,
          59.666666666666664,
          74.66666666666667,
          85,
          67.66666666666667,
          57.333333333333336,
          68.33333333333333,
          69,
          59,
          86.33333333333333,
          75.66666666666667,
          79.66666666666667,
          77.33333333333333,
          72.66666666666667,
          82.33333333333333,
          45,
          75.33333333333333,
          96.33333333333333,
          85.66666666666667,
          100,
          68.33333333333333,
          72.33333333333333,
          65,
          87.33333333333333,
          80.33333333333333,
          86,
          68.66666666666667,
          79.33333333333333,
          62.333333333333336,
          90.33333333333333,
          76.66666666666667,
          68,
          73.33333333333333,
          63,
          71.33333333333333,
          70.66666666666667,
          52.333333333333336,
          51.666666666666664,
          71.66666666666667,
          58,
          66,
          85.33333333333333,
          86.33333333333333,
          62,
          66,
          51.333333333333336,
          67.66666666666667,
          73,
          78.33333333333333,
          91,
          92,
          81.33333333333333,
          68,
          78,
          88.33333333333333,
          73.33333333333333,
          52.333333333333336,
          59,
          82.66666666666667,
          82.33333333333333,
          71,
          74,
          57.333333333333336,
          87,
          61.333333333333336,
          51.333333333333336,
          62.333333333333336,
          68.66666666666667,
          69.33333333333333,
          51.333333333333336,
          60.333333333333336,
          87,
          70,
          56.333333333333336,
          59.666666666666664,
          74,
          91.66666666666667,
          70.66666666666667,
          79,
          88.66666666666667,
          64.33333333333333,
          96.33333333333333,
          67.66666666666667,
          73.33333333333333,
          46,
          46,
          68.66666666666667,
          67,
          76,
          70.33333333333333,
          92.66666666666667,
          45.333333333333336,
          72,
          93,
          57,
          75.33333333333333,
          54.666666666666664,
          87,
          60.666666666666664,
          91.33333333333333,
          78.66666666666667,
          76,
          74.33333333333333,
          72.33333333333333,
          67,
          61,
          59.666666666666664,
          61,
          66.66666666666667,
          74.33333333333333,
          97,
          69,
          51.666666666666664,
          73,
          76,
          59,
          29.333333333333332,
          78,
          69.66666666666667,
          83.66666666666667,
          62.333333333333336,
          62,
          61,
          91.66666666666667,
          72,
          89.33333333333333,
          66.66666666666667,
          40,
          83,
          86.66666666666667,
          94,
          98.66666666666667,
          51.666666666666664,
          50,
          67,
          68,
          73.66666666666667,
          82.66666666666667,
          82.66666666666667,
          69.66666666666667,
          86.66666666666667,
          78.66666666666667,
          74.33333333333333,
          48,
          77.66666666666667,
          65,
          75.66666666666667,
          64.66666666666667,
          52.666666666666664,
          76.33333333333333,
          74.66666666666667,
          89.66666666666667,
          69.66666666666667,
          77,
          65.33333333333333,
          65.33333333333333,
          87.33333333333333,
          67.33333333333333,
          67,
          68.66666666666667,
          69.33333333333333,
          76.66666666666667,
          74.33333333333333,
          77.66666666666667,
          74.66666666666667,
          60,
          75.66666666666667,
          76,
          71,
          62.666666666666664,
          57,
          65.33333333333333,
          97.66666666666667,
          76,
          51.666666666666664,
          75.66666666666667,
          56,
          82.33333333333333,
          67,
          71.33333333333333,
          80.66666666666667,
          65.33333333333333,
          86,
          64.66666666666667,
          38.666666666666664,
          59,
          85,
          89,
          83.33333333333333,
          99,
          82,
          68,
          74.33333333333333,
          97,
          75.33333333333333,
          46.666666666666664,
          43.666666666666664,
          75.33333333333333,
          72.33333333333333,
          58.666666666666664,
          43,
          90,
          48.666666666666664,
          61,
          85,
          75,
          75,
          82.33333333333333,
          68,
          75,
          71.66666666666667,
          67,
          85.66666666666667,
          69.33333333333333,
          68.33333333333333,
          84,
          90.33333333333333,
          55,
          74.33333333333333,
          53.333333333333336,
          81.66666666666667,
          62.333333333333336,
          60.666666666666664,
          72.66666666666667,
          70,
          66,
          71.33333333333333,
          49.666666666666664,
          74,
          63.666666666666664,
          69.33333333333333,
          77.66666666666667,
          87,
          83.66666666666667,
          57.666666666666664,
          83.66666666666667,
          42.333333333333336,
          29.666666666666668,
          56.666666666666664,
          83.33333333333333,
          48.333333333333336,
          70,
          61,
          54.666666666666664,
          69.33333333333333,
          76.33333333333333,
          92,
          84.66666666666667,
          75.66666666666667,
          78,
          54.666666666666664,
          39.333333333333336,
          61.666666666666664,
          82.33333333333333,
          78.33333333333333,
          89,
          56,
          85.33333333333333,
          89,
          62.333333333333336,
          70,
          58.333333333333336,
          60.666666666666664,
          82.66666666666667,
          51,
          66,
          64.66666666666667,
          78.66666666666667,
          72,
          57.666666666666664,
          86.33333333333333,
          87,
          56,
          66.33333333333333,
          74.66666666666667,
          68.33333333333333,
          64,
          88.33333333333333,
          70,
          60.333333333333336,
          96.66666666666667,
          75,
          49,
          56,
          74,
          93.66666666666667,
          84,
          48,
          54.666666666666664,
          72.66666666666667,
          81.33333333333333,
          82.33333333333333,
          57.333333333333336,
          70.33333333333333,
          71.33333333333333,
          64.33333333333333,
          70.33333333333333,
          52,
          72.66666666666667,
          96,
          87.33333333333333,
          87.33333333333333,
          79,
          63.333333333333336,
          61.333333333333336,
          75,
          86,
          75,
          80.66666666666667,
          52,
          84.66666666666667,
          68,
          78.33333333333333,
          59.666666666666664,
          68,
          100,
          52.333333333333336,
          71.33333333333333,
          92.66666666666667,
          68,
          66,
          91.66666666666667,
          59,
          83.66666666666667,
          71.33333333333333,
          88.33333333333333,
          70.33333333333333,
          62.333333333333336,
          57.666666666666664,
          81.33333333333333,
          79.33333333333333,
          78.33333333333333,
          54.666666666666664,
          66.66666666666667,
          63.666666666666664,
          84,
          97.33333333333333,
          55.666666666666664,
          75.66666666666667,
          59.333333333333336,
          100,
          62.333333333333336,
          68,
          66,
          62,
          70.33333333333333,
          79.66666666666667,
          96.33333333333333,
          73,
          61.333333333333336,
          74.33333333333333,
          61.666666666666664,
          48,
          93.33333333333333,
          79,
          83.33333333333333,
          85.33333333333333,
          77,
          54,
          50,
          77.33333333333333,
          75,
          62.666666666666664,
          94,
          74.33333333333333
         ],
         "xaxis": "x",
         "yaxis": "y"
        },
        {
         "alignmentgroup": "True",
         "bingroup": "x",
         "hovertemplate": "lunch=free/reduced<br>average=%{x}<br>count=%{y}<extra></extra>",
         "legendgroup": "free/reduced",
         "marker": {
          "color": "#EF553B",
          "pattern": {
           "shape": ""
          }
         },
         "name": "free/reduced",
         "offsetgroup": "free/reduced",
         "orientation": "v",
         "showlegend": true,
         "type": "histogram",
         "x": [
          49.333333333333336,
          40.666666666666664,
          65,
          49.333333333333336,
          26,
          44.666666666666664,
          57.666666666666664,
          70,
          75,
          73,
          64.33333333333333,
          57.666666666666664,
          84.33333333333333,
          56.666666666666664,
          56.666666666666664,
          63.333333333333336,
          53.333333333333336,
          69,
          71.33333333333333,
          80.66666666666667,
          39,
          9,
          75,
          37.333333333333336,
          59.333333333333336,
          39.666666666666664,
          58.333333333333336,
          64.66666666666667,
          46.666666666666664,
          58,
          41,
          46.333333333333336,
          50.333333333333336,
          38.333333333333336,
          82.33333333333333,
          32.333333333333336,
          46,
          80.33333333333333,
          62.333333333333336,
          66,
          88,
          80.66666666666667,
          58.666666666666664,
          43.333333333333336,
          77,
          76,
          61.666666666666664,
          50.333333333333336,
          31.333333333333332,
          69,
          97.66666666666667,
          72.66666666666667,
          60,
          64,
          78,
          82.66666666666667,
          51.333333333333336,
          51.666666666666664,
          70.66666666666667,
          70.66666666666667,
          49.333333333333336,
          52.666666666666664,
          61.333333333333336,
          68.33333333333333,
          58.666666666666664,
          48.666666666666664,
          65.66666666666667,
          48.333333333333336,
          64.33333333333333,
          54,
          51,
          77.66666666666667,
          74.33333333333333,
          77,
          61.666666666666664,
          79.33333333333333,
          30,
          54.666666666666664,
          55.666666666666664,
          85.66666666666667,
          38.333333333333336,
          71,
          60.666666666666664,
          51.666666666666664,
          68,
          65.33333333333333,
          69,
          79,
          68.33333333333333,
          75.66666666666667,
          73.33333333333333,
          48.333333333333336,
          47.333333333333336,
          72.33333333333333,
          52.666666666666664,
          77,
          62,
          78.66666666666667,
          75.33333333333333,
          79.66666666666667,
          78.33333333333333,
          63,
          45.333333333333336,
          84,
          80,
          54,
          63.666666666666664,
          52.666666666666664,
          68,
          61.333333333333336,
          76.66666666666667,
          49.666666666666664,
          43.333333333333336,
          23.333333333333332,
          65,
          29.666666666666668,
          50,
          57,
          71.66666666666667,
          59,
          60.666666666666664,
          31,
          55.666666666666664,
          62.666666666666664,
          55.333333333333336,
          62.666666666666664,
          43.333333333333336,
          93.33333333333333,
          77,
          44,
          41.333333333333336,
          67.33333333333333,
          66.33333333333333,
          44.666666666666664,
          60,
          56.333333333333336,
          55,
          67.33333333333333,
          55.666666666666664,
          89.33333333333333,
          57.333333333333336,
          38,
          63.666666666666664,
          68.33333333333333,
          59,
          61.666666666666664,
          63,
          52,
          50.333333333333336,
          71.33333333333333,
          67,
          78,
          65,
          78,
          72,
          57.333333333333336,
          58.666666666666664,
          46.666666666666664,
          51.666666666666664,
          55.333333333333336,
          51,
          86,
          31.666666666666668,
          68,
          83.33333333333333,
          55.666666666666664,
          65.66666666666667,
          54.666666666666664,
          69.66666666666667,
          81,
          75.33333333333333,
          71,
          59.333333333333336,
          51,
          56,
          54.333333333333336,
          89.33333333333333,
          74.66666666666667,
          54.333333333333336,
          59,
          44,
          39,
          77.33333333333333,
          80.33333333333333,
          80.33333333333333,
          64.33333333333333,
          73.33333333333333,
          88.33333333333333,
          67.66666666666667,
          34.666666666666664,
          64.66666666666667,
          64.33333333333333,
          74.33333333333333,
          48.333333333333336,
          97.33333333333333,
          70,
          52.666666666666664,
          67.66666666666667,
          60,
          49.333333333333336,
          54,
          71.33333333333333,
          56.333333333333336,
          56.333333333333336,
          23,
          56,
          87.66666666666667,
          50.666666666666664,
          64,
          68.66666666666667,
          50,
          60.333333333333336,
          53.666666666666664,
          60.333333333333336,
          67.33333333333333,
          50.666666666666664,
          76,
          84,
          77.33333333333333,
          64.66666666666667,
          53.333333333333336,
          69.33333333333333,
          53.666666666666664,
          74.66666666666667,
          65,
          56.666666666666664,
          69,
          83,
          70,
          53,
          78,
          61.333333333333336,
          37.666666666666664,
          76,
          51.666666666666664,
          88.66666666666667,
          75.66666666666667,
          73.66666666666667,
          84.66666666666667,
          63.666666666666664,
          62,
          66.33333333333333,
          53.666666666666664,
          85.66666666666667,
          81.33333333333333,
          68,
          57.666666666666664,
          84,
          83,
          75,
          48,
          56,
          64,
          58.666666666666664,
          50,
          52.333333333333336,
          56.333333333333336,
          77,
          55.333333333333336,
          70,
          58.666666666666664,
          63,
          58.333333333333336,
          63.666666666666664,
          73,
          54,
          40.666666666666664,
          53,
          81,
          76,
          64.66666666666667,
          59.333333333333336,
          65.33333333333333,
          69.66666666666667,
          66,
          78.33333333333333,
          76.66666666666667,
          71,
          42,
          47,
          69,
          66.66666666666667,
          87,
          50.666666666666664,
          80,
          52.666666666666664,
          64.66666666666667,
          78.66666666666667,
          59.333333333333336,
          83,
          56,
          45.666666666666664,
          34.333333333333336,
          75.66666666666667,
          56.333333333333336,
          69.33333333333333,
          77.33333333333333,
          84.66666666666667,
          39.666666666666664,
          54.666666666666664,
          74.66666666666667,
          50.333333333333336,
          87.33333333333333,
          55.333333333333336,
          70,
          69.33333333333333,
          48.333333333333336,
          61.666666666666664,
          69.33333333333333,
          47.666666666666664,
          63.333333333333336,
          34.666666666666664,
          30.666666666666668,
          73.33333333333333,
          41,
          97.66666666666667,
          78.33333333333333,
          71.33333333333333,
          46.666666666666664,
          58.333333333333336,
          54,
          68.66666666666667,
          44.666666666666664,
          61.333333333333336,
          71,
          57.333333333333336,
          65.66666666666667,
          44.333333333333336,
          51.666666666666664,
          70.33333333333333,
          60.333333333333336,
          68.33333333333333,
          73,
          63.666666666666664,
          57.333333333333336,
          70,
          61.333333333333336,
          55.666666666666664,
          50.333333333333336,
          68.33333333333333,
          73.33333333333333,
          51.666666666666664,
          72,
          54.333333333333336,
          58.333333333333336,
          60.666666666666664,
          18.333333333333332,
          44.666666666666664,
          78.66666666666667,
          80.66666666666667,
          69,
          69.33333333333333,
          57.333333333333336,
          65,
          83
         ],
         "xaxis": "x",
         "yaxis": "y"
        }
       ],
       "layout": {
        "barmode": "relative",
        "legend": {
         "title": {
          "text": "lunch"
         },
         "tracegroupgap": 0
        },
        "margin": {
         "t": 60
        },
        "template": {
         "data": {
          "bar": [
           {
            "error_x": {
             "color": "#2a3f5f"
            },
            "error_y": {
             "color": "#2a3f5f"
            },
            "marker": {
             "line": {
              "color": "#E5ECF6",
              "width": 0.5
             },
             "pattern": {
              "fillmode": "overlay",
              "size": 10,
              "solidity": 0.2
             }
            },
            "type": "bar"
           }
          ],
          "barpolar": [
           {
            "marker": {
             "line": {
              "color": "#E5ECF6",
              "width": 0.5
             },
             "pattern": {
              "fillmode": "overlay",
              "size": 10,
              "solidity": 0.2
             }
            },
            "type": "barpolar"
           }
          ],
          "carpet": [
           {
            "aaxis": {
             "endlinecolor": "#2a3f5f",
             "gridcolor": "white",
             "linecolor": "white",
             "minorgridcolor": "white",
             "startlinecolor": "#2a3f5f"
            },
            "baxis": {
             "endlinecolor": "#2a3f5f",
             "gridcolor": "white",
             "linecolor": "white",
             "minorgridcolor": "white",
             "startlinecolor": "#2a3f5f"
            },
            "type": "carpet"
           }
          ],
          "choropleth": [
           {
            "colorbar": {
             "outlinewidth": 0,
             "ticks": ""
            },
            "type": "choropleth"
           }
          ],
          "contour": [
           {
            "colorbar": {
             "outlinewidth": 0,
             "ticks": ""
            },
            "colorscale": [
             [
              0,
              "#0d0887"
             ],
             [
              0.1111111111111111,
              "#46039f"
             ],
             [
              0.2222222222222222,
              "#7201a8"
             ],
             [
              0.3333333333333333,
              "#9c179e"
             ],
             [
              0.4444444444444444,
              "#bd3786"
             ],
             [
              0.5555555555555556,
              "#d8576b"
             ],
             [
              0.6666666666666666,
              "#ed7953"
             ],
             [
              0.7777777777777778,
              "#fb9f3a"
             ],
             [
              0.8888888888888888,
              "#fdca26"
             ],
             [
              1,
              "#f0f921"
             ]
            ],
            "type": "contour"
           }
          ],
          "contourcarpet": [
           {
            "colorbar": {
             "outlinewidth": 0,
             "ticks": ""
            },
            "type": "contourcarpet"
           }
          ],
          "heatmap": [
           {
            "colorbar": {
             "outlinewidth": 0,
             "ticks": ""
            },
            "colorscale": [
             [
              0,
              "#0d0887"
             ],
             [
              0.1111111111111111,
              "#46039f"
             ],
             [
              0.2222222222222222,
              "#7201a8"
             ],
             [
              0.3333333333333333,
              "#9c179e"
             ],
             [
              0.4444444444444444,
              "#bd3786"
             ],
             [
              0.5555555555555556,
              "#d8576b"
             ],
             [
              0.6666666666666666,
              "#ed7953"
             ],
             [
              0.7777777777777778,
              "#fb9f3a"
             ],
             [
              0.8888888888888888,
              "#fdca26"
             ],
             [
              1,
              "#f0f921"
             ]
            ],
            "type": "heatmap"
           }
          ],
          "heatmapgl": [
           {
            "colorbar": {
             "outlinewidth": 0,
             "ticks": ""
            },
            "colorscale": [
             [
              0,
              "#0d0887"
             ],
             [
              0.1111111111111111,
              "#46039f"
             ],
             [
              0.2222222222222222,
              "#7201a8"
             ],
             [
              0.3333333333333333,
              "#9c179e"
             ],
             [
              0.4444444444444444,
              "#bd3786"
             ],
             [
              0.5555555555555556,
              "#d8576b"
             ],
             [
              0.6666666666666666,
              "#ed7953"
             ],
             [
              0.7777777777777778,
              "#fb9f3a"
             ],
             [
              0.8888888888888888,
              "#fdca26"
             ],
             [
              1,
              "#f0f921"
             ]
            ],
            "type": "heatmapgl"
           }
          ],
          "histogram": [
           {
            "marker": {
             "pattern": {
              "fillmode": "overlay",
              "size": 10,
              "solidity": 0.2
             }
            },
            "type": "histogram"
           }
          ],
          "histogram2d": [
           {
            "colorbar": {
             "outlinewidth": 0,
             "ticks": ""
            },
            "colorscale": [
             [
              0,
              "#0d0887"
             ],
             [
              0.1111111111111111,
              "#46039f"
             ],
             [
              0.2222222222222222,
              "#7201a8"
             ],
             [
              0.3333333333333333,
              "#9c179e"
             ],
             [
              0.4444444444444444,
              "#bd3786"
             ],
             [
              0.5555555555555556,
              "#d8576b"
             ],
             [
              0.6666666666666666,
              "#ed7953"
             ],
             [
              0.7777777777777778,
              "#fb9f3a"
             ],
             [
              0.8888888888888888,
              "#fdca26"
             ],
             [
              1,
              "#f0f921"
             ]
            ],
            "type": "histogram2d"
           }
          ],
          "histogram2dcontour": [
           {
            "colorbar": {
             "outlinewidth": 0,
             "ticks": ""
            },
            "colorscale": [
             [
              0,
              "#0d0887"
             ],
             [
              0.1111111111111111,
              "#46039f"
             ],
             [
              0.2222222222222222,
              "#7201a8"
             ],
             [
              0.3333333333333333,
              "#9c179e"
             ],
             [
              0.4444444444444444,
              "#bd3786"
             ],
             [
              0.5555555555555556,
              "#d8576b"
             ],
             [
              0.6666666666666666,
              "#ed7953"
             ],
             [
              0.7777777777777778,
              "#fb9f3a"
             ],
             [
              0.8888888888888888,
              "#fdca26"
             ],
             [
              1,
              "#f0f921"
             ]
            ],
            "type": "histogram2dcontour"
           }
          ],
          "mesh3d": [
           {
            "colorbar": {
             "outlinewidth": 0,
             "ticks": ""
            },
            "type": "mesh3d"
           }
          ],
          "parcoords": [
           {
            "line": {
             "colorbar": {
              "outlinewidth": 0,
              "ticks": ""
             }
            },
            "type": "parcoords"
           }
          ],
          "pie": [
           {
            "automargin": true,
            "type": "pie"
           }
          ],
          "scatter": [
           {
            "fillpattern": {
             "fillmode": "overlay",
             "size": 10,
             "solidity": 0.2
            },
            "type": "scatter"
           }
          ],
          "scatter3d": [
           {
            "line": {
             "colorbar": {
              "outlinewidth": 0,
              "ticks": ""
             }
            },
            "marker": {
             "colorbar": {
              "outlinewidth": 0,
              "ticks": ""
             }
            },
            "type": "scatter3d"
           }
          ],
          "scattercarpet": [
           {
            "marker": {
             "colorbar": {
              "outlinewidth": 0,
              "ticks": ""
             }
            },
            "type": "scattercarpet"
           }
          ],
          "scattergeo": [
           {
            "marker": {
             "colorbar": {
              "outlinewidth": 0,
              "ticks": ""
             }
            },
            "type": "scattergeo"
           }
          ],
          "scattergl": [
           {
            "marker": {
             "colorbar": {
              "outlinewidth": 0,
              "ticks": ""
             }
            },
            "type": "scattergl"
           }
          ],
          "scattermapbox": [
           {
            "marker": {
             "colorbar": {
              "outlinewidth": 0,
              "ticks": ""
             }
            },
            "type": "scattermapbox"
           }
          ],
          "scatterpolar": [
           {
            "marker": {
             "colorbar": {
              "outlinewidth": 0,
              "ticks": ""
             }
            },
            "type": "scatterpolar"
           }
          ],
          "scatterpolargl": [
           {
            "marker": {
             "colorbar": {
              "outlinewidth": 0,
              "ticks": ""
             }
            },
            "type": "scatterpolargl"
           }
          ],
          "scatterternary": [
           {
            "marker": {
             "colorbar": {
              "outlinewidth": 0,
              "ticks": ""
             }
            },
            "type": "scatterternary"
           }
          ],
          "surface": [
           {
            "colorbar": {
             "outlinewidth": 0,
             "ticks": ""
            },
            "colorscale": [
             [
              0,
              "#0d0887"
             ],
             [
              0.1111111111111111,
              "#46039f"
             ],
             [
              0.2222222222222222,
              "#7201a8"
             ],
             [
              0.3333333333333333,
              "#9c179e"
             ],
             [
              0.4444444444444444,
              "#bd3786"
             ],
             [
              0.5555555555555556,
              "#d8576b"
             ],
             [
              0.6666666666666666,
              "#ed7953"
             ],
             [
              0.7777777777777778,
              "#fb9f3a"
             ],
             [
              0.8888888888888888,
              "#fdca26"
             ],
             [
              1,
              "#f0f921"
             ]
            ],
            "type": "surface"
           }
          ],
          "table": [
           {
            "cells": {
             "fill": {
              "color": "#EBF0F8"
             },
             "line": {
              "color": "white"
             }
            },
            "header": {
             "fill": {
              "color": "#C8D4E3"
             },
             "line": {
              "color": "white"
             }
            },
            "type": "table"
           }
          ]
         },
         "layout": {
          "annotationdefaults": {
           "arrowcolor": "#2a3f5f",
           "arrowhead": 0,
           "arrowwidth": 1
          },
          "autotypenumbers": "strict",
          "coloraxis": {
           "colorbar": {
            "outlinewidth": 0,
            "ticks": ""
           }
          },
          "colorscale": {
           "diverging": [
            [
             0,
             "#8e0152"
            ],
            [
             0.1,
             "#c51b7d"
            ],
            [
             0.2,
             "#de77ae"
            ],
            [
             0.3,
             "#f1b6da"
            ],
            [
             0.4,
             "#fde0ef"
            ],
            [
             0.5,
             "#f7f7f7"
            ],
            [
             0.6,
             "#e6f5d0"
            ],
            [
             0.7,
             "#b8e186"
            ],
            [
             0.8,
             "#7fbc41"
            ],
            [
             0.9,
             "#4d9221"
            ],
            [
             1,
             "#276419"
            ]
           ],
           "sequential": [
            [
             0,
             "#0d0887"
            ],
            [
             0.1111111111111111,
             "#46039f"
            ],
            [
             0.2222222222222222,
             "#7201a8"
            ],
            [
             0.3333333333333333,
             "#9c179e"
            ],
            [
             0.4444444444444444,
             "#bd3786"
            ],
            [
             0.5555555555555556,
             "#d8576b"
            ],
            [
             0.6666666666666666,
             "#ed7953"
            ],
            [
             0.7777777777777778,
             "#fb9f3a"
            ],
            [
             0.8888888888888888,
             "#fdca26"
            ],
            [
             1,
             "#f0f921"
            ]
           ],
           "sequentialminus": [
            [
             0,
             "#0d0887"
            ],
            [
             0.1111111111111111,
             "#46039f"
            ],
            [
             0.2222222222222222,
             "#7201a8"
            ],
            [
             0.3333333333333333,
             "#9c179e"
            ],
            [
             0.4444444444444444,
             "#bd3786"
            ],
            [
             0.5555555555555556,
             "#d8576b"
            ],
            [
             0.6666666666666666,
             "#ed7953"
            ],
            [
             0.7777777777777778,
             "#fb9f3a"
            ],
            [
             0.8888888888888888,
             "#fdca26"
            ],
            [
             1,
             "#f0f921"
            ]
           ]
          },
          "colorway": [
           "#636efa",
           "#EF553B",
           "#00cc96",
           "#ab63fa",
           "#FFA15A",
           "#19d3f3",
           "#FF6692",
           "#B6E880",
           "#FF97FF",
           "#FECB52"
          ],
          "font": {
           "color": "#2a3f5f"
          },
          "geo": {
           "bgcolor": "white",
           "lakecolor": "white",
           "landcolor": "#E5ECF6",
           "showlakes": true,
           "showland": true,
           "subunitcolor": "white"
          },
          "hoverlabel": {
           "align": "left"
          },
          "hovermode": "closest",
          "mapbox": {
           "style": "light"
          },
          "paper_bgcolor": "white",
          "plot_bgcolor": "#E5ECF6",
          "polar": {
           "angularaxis": {
            "gridcolor": "white",
            "linecolor": "white",
            "ticks": ""
           },
           "bgcolor": "#E5ECF6",
           "radialaxis": {
            "gridcolor": "white",
            "linecolor": "white",
            "ticks": ""
           }
          },
          "scene": {
           "xaxis": {
            "backgroundcolor": "#E5ECF6",
            "gridcolor": "white",
            "gridwidth": 2,
            "linecolor": "white",
            "showbackground": true,
            "ticks": "",
            "zerolinecolor": "white"
           },
           "yaxis": {
            "backgroundcolor": "#E5ECF6",
            "gridcolor": "white",
            "gridwidth": 2,
            "linecolor": "white",
            "showbackground": true,
            "ticks": "",
            "zerolinecolor": "white"
           },
           "zaxis": {
            "backgroundcolor": "#E5ECF6",
            "gridcolor": "white",
            "gridwidth": 2,
            "linecolor": "white",
            "showbackground": true,
            "ticks": "",
            "zerolinecolor": "white"
           }
          },
          "shapedefaults": {
           "line": {
            "color": "#2a3f5f"
           }
          },
          "ternary": {
           "aaxis": {
            "gridcolor": "white",
            "linecolor": "white",
            "ticks": ""
           },
           "baxis": {
            "gridcolor": "white",
            "linecolor": "white",
            "ticks": ""
           },
           "bgcolor": "#E5ECF6",
           "caxis": {
            "gridcolor": "white",
            "linecolor": "white",
            "ticks": ""
           }
          },
          "title": {
           "x": 0.05
          },
          "xaxis": {
           "automargin": true,
           "gridcolor": "white",
           "linecolor": "white",
           "ticks": "",
           "title": {
            "standoff": 15
           },
           "zerolinecolor": "white",
           "zerolinewidth": 2
          },
          "yaxis": {
           "automargin": true,
           "gridcolor": "white",
           "linecolor": "white",
           "ticks": "",
           "title": {
            "standoff": 15
           },
           "zerolinecolor": "white",
           "zerolinewidth": 2
          }
         }
        },
        "xaxis": {
         "anchor": "y",
         "domain": [
          0,
          1
         ],
         "title": {
          "text": "average"
         }
        },
        "yaxis": {
         "anchor": "x",
         "domain": [
          0,
          1
         ],
         "title": {
          "text": "count"
         }
        }
       }
      }
     },
     "metadata": {},
     "output_type": "display_data"
    },
    {
     "data": {
      "application/vnd.plotly.v1+json": {
       "config": {
        "plotlyServerURL": "https://plot.ly"
       },
       "data": [
        {
         "alignmentgroup": "True",
         "bingroup": "x",
         "hovertemplate": "lunch=standard<br>average=%{x}<br>count=%{y}<extra></extra>",
         "legendgroup": "standard",
         "marker": {
          "color": "#636efa",
          "pattern": {
           "shape": ""
          }
         },
         "name": "standard",
         "offsetgroup": "standard",
         "orientation": "v",
         "showlegend": true,
         "type": "histogram",
         "x": [
          72.66666666666667,
          82.33333333333333,
          92.66666666666667,
          77.33333333333333,
          91.66666666666667,
          73,
          53.666666666666664,
          74,
          71.66666666666667,
          70.33333333333333,
          69,
          72.33333333333333,
          63,
          79.33333333333333,
          66.33333333333333,
          58.666666666666664,
          60.666666666666664,
          71,
          84.33333333333333,
          73.33333333333333,
          58.666666666666664,
          68.66666666666667,
          53.333333333333336,
          69,
          66,
          48.666666666666664,
          78.33333333333333,
          72,
          65,
          80.33333333333333,
          70.33333333333333,
          85.66666666666667,
          68.33333333333333,
          64.66666666666667,
          88.33333333333333,
          65.66666666666667,
          95.66666666666667,
          68.66666666666667,
          54.333333333333336,
          99.66666666666667,
          79.66666666666667,
          58.333333333333336,
          63,
          86.66666666666667,
          91.33333333333333,
          89.33333333333333,
          50.333333333333336,
          80,
          64,
          73,
          74.66666666666667,
          65,
          82.33333333333333,
          78,
          88,
          98.66666666666667,
          76.33333333333333,
          82,
          66.66666666666667,
          86.33333333333333,
          75,
          99,
          49,
          68,
          84,
          66.66666666666667,
          64,
          79.33333333333333,
          79,
          64.66666666666667,
          66,
          63.666666666666664,
          71.66666666666667,
          92.33333333333333,
          78.66666666666667,
          66,
          82,
          54.333333333333336,
          65.33333333333333,
          63.666666666666664,
          66.66666666666667,
          68.33333333333333,
          74.33333333333333,
          94,
          73,
          72.66666666666667,
          91.66666666666667,
          68.66666666666667,
          90,
          65.66666666666667,
          43,
          79.33333333333333,
          71,
          77.33333333333333,
          77.33333333333333,
          76.33333333333333,
          66,
          83.33333333333333,
          80,
          77.33333333333333,
          88.66666666666667,
          49,
          90.33333333333333,
          65.66666666666667,
          73,
          75.66666666666667,
          88.66666666666667,
          62,
          73.66666666666667,
          53.666666666666664,
          66.66666666666667,
          67.66666666666667,
          86.33333333333333,
          59.666666666666664,
          56,
          80.66666666666667,
          91.66666666666667,
          67.33333333333333,
          84,
          77,
          83,
          72.66666666666667,
          69,
          63.333333333333336,
          74,
          72,
          89.66666666666667,
          60,
          95.66666666666667,
          58.333333333333336,
          68,
          79.66666666666667,
          71.66666666666667,
          59.666666666666664,
          74.66666666666667,
          67.66666666666667,
          75.66666666666667,
          79.66666666666667,
          77.33333333333333,
          72.66666666666667,
          96.33333333333333,
          85.66666666666667,
          100,
          72.33333333333333,
          87.33333333333333,
          86,
          68.66666666666667,
          79.33333333333333,
          62.333333333333336,
          90.33333333333333,
          76.66666666666667,
          63,
          51.666666666666664,
          66,
          85.33333333333333,
          86.33333333333333,
          62,
          51.333333333333336,
          67.66666666666667,
          78.33333333333333,
          91,
          92,
          81.33333333333333,
          88.33333333333333,
          59,
          82.66666666666667,
          82.33333333333333,
          71,
          74,
          87,
          68.66666666666667,
          69.33333333333333,
          51.333333333333336,
          87,
          59.666666666666664,
          79,
          88.66666666666667,
          64.33333333333333,
          96.33333333333333,
          46,
          68.66666666666667,
          76,
          70.33333333333333,
          57,
          75.33333333333333,
          87,
          60.666666666666664,
          91.33333333333333,
          78.66666666666667,
          76,
          74.33333333333333,
          72.33333333333333,
          67,
          61,
          59.666666666666664,
          74.33333333333333,
          97,
          69,
          73,
          76,
          59,
          29.333333333333332,
          78,
          83.66666666666667,
          62.333333333333336,
          62,
          61,
          72,
          89.33333333333333,
          66.66666666666667,
          40,
          50,
          73.66666666666667,
          82.66666666666667,
          86.66666666666667,
          74.33333333333333,
          77.66666666666667,
          75.66666666666667,
          64.66666666666667,
          52.666666666666664,
          76.33333333333333,
          74.66666666666667,
          89.66666666666667,
          69.66666666666667,
          77,
          65.33333333333333,
          67,
          74.33333333333333,
          77.66666666666667,
          74.66666666666667,
          60,
          75.66666666666667,
          76,
          71,
          97.66666666666667,
          51.666666666666664,
          75.66666666666667,
          56,
          82.33333333333333,
          67,
          71.33333333333333,
          80.66666666666667,
          65.33333333333333,
          64.66666666666667,
          83.33333333333333,
          99,
          68,
          97,
          75.33333333333333,
          72.33333333333333,
          90,
          82.33333333333333,
          68,
          84,
          90.33333333333333,
          53.333333333333336,
          62.333333333333336,
          72.66666666666667,
          70,
          71.33333333333333,
          69.33333333333333,
          77.66666666666667,
          83.66666666666667,
          57.666666666666664,
          42.333333333333336,
          29.666666666666668,
          56.666666666666664,
          48.333333333333336,
          54.666666666666664,
          92,
          84.66666666666667,
          75.66666666666667,
          61.666666666666664,
          78.33333333333333,
          56,
          85.33333333333333,
          89,
          70,
          82.66666666666667,
          66,
          78.66666666666667,
          72,
          66.33333333333333,
          64,
          88.33333333333333,
          96.66666666666667,
          75,
          56,
          74,
          72.66666666666667,
          70.33333333333333,
          71.33333333333333,
          70.33333333333333,
          52,
          72.66666666666667,
          96,
          87.33333333333333,
          87.33333333333333,
          63.333333333333336,
          75,
          75,
          84.66666666666667,
          78.33333333333333,
          59.666666666666664,
          68,
          52.333333333333336,
          71.33333333333333,
          88.33333333333333,
          62.333333333333336,
          57.666666666666664,
          78.33333333333333,
          66.66666666666667,
          97.33333333333333,
          55.666666666666664,
          59.333333333333336,
          100,
          68,
          70.33333333333333,
          79.66666666666667,
          96.33333333333333,
          61.333333333333336,
          74.33333333333333,
          93.33333333333333,
          85.33333333333333,
          77,
          50,
          75,
          94,
          74.33333333333333
         ],
         "xaxis": "x",
         "yaxis": "y"
        },
        {
         "alignmentgroup": "True",
         "bingroup": "x",
         "hovertemplate": "lunch=free/reduced<br>average=%{x}<br>count=%{y}<extra></extra>",
         "legendgroup": "free/reduced",
         "marker": {
          "color": "#EF553B",
          "pattern": {
           "shape": ""
          }
         },
         "name": "free/reduced",
         "offsetgroup": "free/reduced",
         "orientation": "v",
         "showlegend": true,
         "type": "histogram",
         "x": [
          49.333333333333336,
          26,
          57.666666666666664,
          70,
          64.33333333333333,
          57.666666666666664,
          84.33333333333333,
          53.333333333333336,
          69,
          80.66666666666667,
          39,
          9,
          64.66666666666667,
          46.666666666666664,
          82.33333333333333,
          62.333333333333336,
          66,
          88,
          80.66666666666667,
          61.666666666666664,
          50.333333333333336,
          31.333333333333332,
          72.66666666666667,
          82.66666666666667,
          70.66666666666667,
          70.66666666666667,
          49.333333333333336,
          52.666666666666664,
          61.333333333333336,
          58.666666666666664,
          51,
          77.66666666666667,
          74.33333333333333,
          77,
          61.666666666666664,
          54.666666666666664,
          85.66666666666667,
          38.333333333333336,
          60.666666666666664,
          51.666666666666664,
          79,
          68.33333333333333,
          75.66666666666667,
          73.33333333333333,
          48.333333333333336,
          72.33333333333333,
          52.666666666666664,
          77,
          78.66666666666667,
          75.33333333333333,
          63.666666666666664,
          52.666666666666664,
          68,
          61.333333333333336,
          76.66666666666667,
          49.666666666666664,
          43.333333333333336,
          65,
          29.666666666666668,
          50,
          59,
          31,
          55.333333333333336,
          62.666666666666664,
          93.33333333333333,
          44,
          41.333333333333336,
          67.33333333333333,
          60,
          56.333333333333336,
          55,
          67.33333333333333,
          89.33333333333333,
          57.333333333333336,
          63.666666666666664,
          52,
          67,
          78,
          72,
          58.666666666666664,
          86,
          31.666666666666668,
          83.33333333333333,
          55.666666666666664,
          69.66666666666667,
          75.33333333333333,
          71,
          51,
          89.33333333333333,
          74.66666666666667,
          44,
          39,
          77.33333333333333,
          64.33333333333333,
          34.666666666666664,
          64.33333333333333,
          74.33333333333333,
          97.33333333333333,
          70,
          60,
          54,
          71.33333333333333,
          56.333333333333336,
          50.666666666666664,
          50,
          60.333333333333336,
          76,
          84,
          77.33333333333333,
          64.66666666666667,
          53.666666666666664,
          65,
          56.666666666666664,
          69,
          83,
          70,
          37.666666666666664,
          75.66666666666667,
          73.66666666666667,
          84.66666666666667,
          62,
          53.666666666666664,
          85.66666666666667,
          68,
          84,
          83,
          75,
          56,
          64,
          50,
          56.333333333333336,
          58.666666666666664,
          63,
          63.666666666666664,
          73,
          54,
          40.666666666666664,
          53,
          81,
          76,
          59.333333333333336,
          65.33333333333333,
          66,
          78.33333333333333,
          71,
          42,
          66.66666666666667,
          87,
          80,
          52.666666666666664,
          64.66666666666667,
          78.66666666666667,
          59.333333333333336,
          83,
          45.666666666666664,
          34.333333333333336,
          56.333333333333336,
          84.66666666666667,
          55.333333333333336,
          69.33333333333333,
          69.33333333333333,
          63.333333333333336,
          34.666666666666664,
          73.33333333333333,
          41,
          97.66666666666667,
          78.33333333333333,
          71.33333333333333,
          58.333333333333336,
          54,
          44.666666666666664,
          61.333333333333336,
          65.66666666666667,
          51.666666666666664,
          57.333333333333336,
          55.666666666666664,
          68.33333333333333,
          73.33333333333333,
          51.666666666666664,
          72,
          54.333333333333336,
          58.333333333333336,
          18.333333333333332,
          44.666666666666664,
          78.66666666666667,
          69,
          69.33333333333333,
          65,
          83
         ],
         "xaxis": "x",
         "yaxis": "y"
        }
       ],
       "layout": {
        "barmode": "relative",
        "legend": {
         "title": {
          "text": "lunch"
         },
         "tracegroupgap": 0
        },
        "template": {
         "data": {
          "bar": [
           {
            "error_x": {
             "color": "#2a3f5f"
            },
            "error_y": {
             "color": "#2a3f5f"
            },
            "marker": {
             "line": {
              "color": "#E5ECF6",
              "width": 0.5
             },
             "pattern": {
              "fillmode": "overlay",
              "size": 10,
              "solidity": 0.2
             }
            },
            "type": "bar"
           }
          ],
          "barpolar": [
           {
            "marker": {
             "line": {
              "color": "#E5ECF6",
              "width": 0.5
             },
             "pattern": {
              "fillmode": "overlay",
              "size": 10,
              "solidity": 0.2
             }
            },
            "type": "barpolar"
           }
          ],
          "carpet": [
           {
            "aaxis": {
             "endlinecolor": "#2a3f5f",
             "gridcolor": "white",
             "linecolor": "white",
             "minorgridcolor": "white",
             "startlinecolor": "#2a3f5f"
            },
            "baxis": {
             "endlinecolor": "#2a3f5f",
             "gridcolor": "white",
             "linecolor": "white",
             "minorgridcolor": "white",
             "startlinecolor": "#2a3f5f"
            },
            "type": "carpet"
           }
          ],
          "choropleth": [
           {
            "colorbar": {
             "outlinewidth": 0,
             "ticks": ""
            },
            "type": "choropleth"
           }
          ],
          "contour": [
           {
            "colorbar": {
             "outlinewidth": 0,
             "ticks": ""
            },
            "colorscale": [
             [
              0,
              "#0d0887"
             ],
             [
              0.1111111111111111,
              "#46039f"
             ],
             [
              0.2222222222222222,
              "#7201a8"
             ],
             [
              0.3333333333333333,
              "#9c179e"
             ],
             [
              0.4444444444444444,
              "#bd3786"
             ],
             [
              0.5555555555555556,
              "#d8576b"
             ],
             [
              0.6666666666666666,
              "#ed7953"
             ],
             [
              0.7777777777777778,
              "#fb9f3a"
             ],
             [
              0.8888888888888888,
              "#fdca26"
             ],
             [
              1,
              "#f0f921"
             ]
            ],
            "type": "contour"
           }
          ],
          "contourcarpet": [
           {
            "colorbar": {
             "outlinewidth": 0,
             "ticks": ""
            },
            "type": "contourcarpet"
           }
          ],
          "heatmap": [
           {
            "colorbar": {
             "outlinewidth": 0,
             "ticks": ""
            },
            "colorscale": [
             [
              0,
              "#0d0887"
             ],
             [
              0.1111111111111111,
              "#46039f"
             ],
             [
              0.2222222222222222,
              "#7201a8"
             ],
             [
              0.3333333333333333,
              "#9c179e"
             ],
             [
              0.4444444444444444,
              "#bd3786"
             ],
             [
              0.5555555555555556,
              "#d8576b"
             ],
             [
              0.6666666666666666,
              "#ed7953"
             ],
             [
              0.7777777777777778,
              "#fb9f3a"
             ],
             [
              0.8888888888888888,
              "#fdca26"
             ],
             [
              1,
              "#f0f921"
             ]
            ],
            "type": "heatmap"
           }
          ],
          "heatmapgl": [
           {
            "colorbar": {
             "outlinewidth": 0,
             "ticks": ""
            },
            "colorscale": [
             [
              0,
              "#0d0887"
             ],
             [
              0.1111111111111111,
              "#46039f"
             ],
             [
              0.2222222222222222,
              "#7201a8"
             ],
             [
              0.3333333333333333,
              "#9c179e"
             ],
             [
              0.4444444444444444,
              "#bd3786"
             ],
             [
              0.5555555555555556,
              "#d8576b"
             ],
             [
              0.6666666666666666,
              "#ed7953"
             ],
             [
              0.7777777777777778,
              "#fb9f3a"
             ],
             [
              0.8888888888888888,
              "#fdca26"
             ],
             [
              1,
              "#f0f921"
             ]
            ],
            "type": "heatmapgl"
           }
          ],
          "histogram": [
           {
            "marker": {
             "pattern": {
              "fillmode": "overlay",
              "size": 10,
              "solidity": 0.2
             }
            },
            "type": "histogram"
           }
          ],
          "histogram2d": [
           {
            "colorbar": {
             "outlinewidth": 0,
             "ticks": ""
            },
            "colorscale": [
             [
              0,
              "#0d0887"
             ],
             [
              0.1111111111111111,
              "#46039f"
             ],
             [
              0.2222222222222222,
              "#7201a8"
             ],
             [
              0.3333333333333333,
              "#9c179e"
             ],
             [
              0.4444444444444444,
              "#bd3786"
             ],
             [
              0.5555555555555556,
              "#d8576b"
             ],
             [
              0.6666666666666666,
              "#ed7953"
             ],
             [
              0.7777777777777778,
              "#fb9f3a"
             ],
             [
              0.8888888888888888,
              "#fdca26"
             ],
             [
              1,
              "#f0f921"
             ]
            ],
            "type": "histogram2d"
           }
          ],
          "histogram2dcontour": [
           {
            "colorbar": {
             "outlinewidth": 0,
             "ticks": ""
            },
            "colorscale": [
             [
              0,
              "#0d0887"
             ],
             [
              0.1111111111111111,
              "#46039f"
             ],
             [
              0.2222222222222222,
              "#7201a8"
             ],
             [
              0.3333333333333333,
              "#9c179e"
             ],
             [
              0.4444444444444444,
              "#bd3786"
             ],
             [
              0.5555555555555556,
              "#d8576b"
             ],
             [
              0.6666666666666666,
              "#ed7953"
             ],
             [
              0.7777777777777778,
              "#fb9f3a"
             ],
             [
              0.8888888888888888,
              "#fdca26"
             ],
             [
              1,
              "#f0f921"
             ]
            ],
            "type": "histogram2dcontour"
           }
          ],
          "mesh3d": [
           {
            "colorbar": {
             "outlinewidth": 0,
             "ticks": ""
            },
            "type": "mesh3d"
           }
          ],
          "parcoords": [
           {
            "line": {
             "colorbar": {
              "outlinewidth": 0,
              "ticks": ""
             }
            },
            "type": "parcoords"
           }
          ],
          "pie": [
           {
            "automargin": true,
            "type": "pie"
           }
          ],
          "scatter": [
           {
            "fillpattern": {
             "fillmode": "overlay",
             "size": 10,
             "solidity": 0.2
            },
            "type": "scatter"
           }
          ],
          "scatter3d": [
           {
            "line": {
             "colorbar": {
              "outlinewidth": 0,
              "ticks": ""
             }
            },
            "marker": {
             "colorbar": {
              "outlinewidth": 0,
              "ticks": ""
             }
            },
            "type": "scatter3d"
           }
          ],
          "scattercarpet": [
           {
            "marker": {
             "colorbar": {
              "outlinewidth": 0,
              "ticks": ""
             }
            },
            "type": "scattercarpet"
           }
          ],
          "scattergeo": [
           {
            "marker": {
             "colorbar": {
              "outlinewidth": 0,
              "ticks": ""
             }
            },
            "type": "scattergeo"
           }
          ],
          "scattergl": [
           {
            "marker": {
             "colorbar": {
              "outlinewidth": 0,
              "ticks": ""
             }
            },
            "type": "scattergl"
           }
          ],
          "scattermapbox": [
           {
            "marker": {
             "colorbar": {
              "outlinewidth": 0,
              "ticks": ""
             }
            },
            "type": "scattermapbox"
           }
          ],
          "scatterpolar": [
           {
            "marker": {
             "colorbar": {
              "outlinewidth": 0,
              "ticks": ""
             }
            },
            "type": "scatterpolar"
           }
          ],
          "scatterpolargl": [
           {
            "marker": {
             "colorbar": {
              "outlinewidth": 0,
              "ticks": ""
             }
            },
            "type": "scatterpolargl"
           }
          ],
          "scatterternary": [
           {
            "marker": {
             "colorbar": {
              "outlinewidth": 0,
              "ticks": ""
             }
            },
            "type": "scatterternary"
           }
          ],
          "surface": [
           {
            "colorbar": {
             "outlinewidth": 0,
             "ticks": ""
            },
            "colorscale": [
             [
              0,
              "#0d0887"
             ],
             [
              0.1111111111111111,
              "#46039f"
             ],
             [
              0.2222222222222222,
              "#7201a8"
             ],
             [
              0.3333333333333333,
              "#9c179e"
             ],
             [
              0.4444444444444444,
              "#bd3786"
             ],
             [
              0.5555555555555556,
              "#d8576b"
             ],
             [
              0.6666666666666666,
              "#ed7953"
             ],
             [
              0.7777777777777778,
              "#fb9f3a"
             ],
             [
              0.8888888888888888,
              "#fdca26"
             ],
             [
              1,
              "#f0f921"
             ]
            ],
            "type": "surface"
           }
          ],
          "table": [
           {
            "cells": {
             "fill": {
              "color": "#EBF0F8"
             },
             "line": {
              "color": "white"
             }
            },
            "header": {
             "fill": {
              "color": "#C8D4E3"
             },
             "line": {
              "color": "white"
             }
            },
            "type": "table"
           }
          ]
         },
         "layout": {
          "annotationdefaults": {
           "arrowcolor": "#2a3f5f",
           "arrowhead": 0,
           "arrowwidth": 1
          },
          "autotypenumbers": "strict",
          "coloraxis": {
           "colorbar": {
            "outlinewidth": 0,
            "ticks": ""
           }
          },
          "colorscale": {
           "diverging": [
            [
             0,
             "#8e0152"
            ],
            [
             0.1,
             "#c51b7d"
            ],
            [
             0.2,
             "#de77ae"
            ],
            [
             0.3,
             "#f1b6da"
            ],
            [
             0.4,
             "#fde0ef"
            ],
            [
             0.5,
             "#f7f7f7"
            ],
            [
             0.6,
             "#e6f5d0"
            ],
            [
             0.7,
             "#b8e186"
            ],
            [
             0.8,
             "#7fbc41"
            ],
            [
             0.9,
             "#4d9221"
            ],
            [
             1,
             "#276419"
            ]
           ],
           "sequential": [
            [
             0,
             "#0d0887"
            ],
            [
             0.1111111111111111,
             "#46039f"
            ],
            [
             0.2222222222222222,
             "#7201a8"
            ],
            [
             0.3333333333333333,
             "#9c179e"
            ],
            [
             0.4444444444444444,
             "#bd3786"
            ],
            [
             0.5555555555555556,
             "#d8576b"
            ],
            [
             0.6666666666666666,
             "#ed7953"
            ],
            [
             0.7777777777777778,
             "#fb9f3a"
            ],
            [
             0.8888888888888888,
             "#fdca26"
            ],
            [
             1,
             "#f0f921"
            ]
           ],
           "sequentialminus": [
            [
             0,
             "#0d0887"
            ],
            [
             0.1111111111111111,
             "#46039f"
            ],
            [
             0.2222222222222222,
             "#7201a8"
            ],
            [
             0.3333333333333333,
             "#9c179e"
            ],
            [
             0.4444444444444444,
             "#bd3786"
            ],
            [
             0.5555555555555556,
             "#d8576b"
            ],
            [
             0.6666666666666666,
             "#ed7953"
            ],
            [
             0.7777777777777778,
             "#fb9f3a"
            ],
            [
             0.8888888888888888,
             "#fdca26"
            ],
            [
             1,
             "#f0f921"
            ]
           ]
          },
          "colorway": [
           "#636efa",
           "#EF553B",
           "#00cc96",
           "#ab63fa",
           "#FFA15A",
           "#19d3f3",
           "#FF6692",
           "#B6E880",
           "#FF97FF",
           "#FECB52"
          ],
          "font": {
           "color": "#2a3f5f"
          },
          "geo": {
           "bgcolor": "white",
           "lakecolor": "white",
           "landcolor": "#E5ECF6",
           "showlakes": true,
           "showland": true,
           "subunitcolor": "white"
          },
          "hoverlabel": {
           "align": "left"
          },
          "hovermode": "closest",
          "mapbox": {
           "style": "light"
          },
          "paper_bgcolor": "white",
          "plot_bgcolor": "#E5ECF6",
          "polar": {
           "angularaxis": {
            "gridcolor": "white",
            "linecolor": "white",
            "ticks": ""
           },
           "bgcolor": "#E5ECF6",
           "radialaxis": {
            "gridcolor": "white",
            "linecolor": "white",
            "ticks": ""
           }
          },
          "scene": {
           "xaxis": {
            "backgroundcolor": "#E5ECF6",
            "gridcolor": "white",
            "gridwidth": 2,
            "linecolor": "white",
            "showbackground": true,
            "ticks": "",
            "zerolinecolor": "white"
           },
           "yaxis": {
            "backgroundcolor": "#E5ECF6",
            "gridcolor": "white",
            "gridwidth": 2,
            "linecolor": "white",
            "showbackground": true,
            "ticks": "",
            "zerolinecolor": "white"
           },
           "zaxis": {
            "backgroundcolor": "#E5ECF6",
            "gridcolor": "white",
            "gridwidth": 2,
            "linecolor": "white",
            "showbackground": true,
            "ticks": "",
            "zerolinecolor": "white"
           }
          },
          "shapedefaults": {
           "line": {
            "color": "#2a3f5f"
           }
          },
          "ternary": {
           "aaxis": {
            "gridcolor": "white",
            "linecolor": "white",
            "ticks": ""
           },
           "baxis": {
            "gridcolor": "white",
            "linecolor": "white",
            "ticks": ""
           },
           "bgcolor": "#E5ECF6",
           "caxis": {
            "gridcolor": "white",
            "linecolor": "white",
            "ticks": ""
           }
          },
          "title": {
           "x": 0.05
          },
          "xaxis": {
           "automargin": true,
           "gridcolor": "white",
           "linecolor": "white",
           "ticks": "",
           "title": {
            "standoff": 15
           },
           "zerolinecolor": "white",
           "zerolinewidth": 2
          },
          "yaxis": {
           "automargin": true,
           "gridcolor": "white",
           "linecolor": "white",
           "ticks": "",
           "title": {
            "standoff": 15
           },
           "zerolinecolor": "white",
           "zerolinewidth": 2
          }
         }
        },
        "title": {
         "text": "Male Average"
        },
        "xaxis": {
         "anchor": "y",
         "domain": [
          0,
          1
         ],
         "title": {
          "text": "average"
         }
        },
        "yaxis": {
         "anchor": "x",
         "domain": [
          0,
          1
         ],
         "title": {
          "text": "count"
         }
        }
       }
      }
     },
     "metadata": {},
     "output_type": "display_data"
    },
    {
     "data": {
      "application/vnd.plotly.v1+json": {
       "config": {
        "plotlyServerURL": "https://plot.ly"
       },
       "data": [
        {
         "alignmentgroup": "True",
         "bingroup": "x",
         "hovertemplate": "lunch=free/reduced<br>average=%{x}<br>count=%{y}<extra></extra>",
         "legendgroup": "free/reduced",
         "marker": {
          "color": "#636efa",
          "pattern": {
           "shape": ""
          }
         },
         "name": "free/reduced",
         "offsetgroup": "free/reduced",
         "orientation": "v",
         "showlegend": true,
         "type": "histogram",
         "x": [
          49.333333333333336,
          40.666666666666664,
          65,
          44.666666666666664,
          75,
          73,
          56.666666666666664,
          56.666666666666664,
          63.333333333333336,
          71.33333333333333,
          75,
          37.333333333333336,
          59.333333333333336,
          39.666666666666664,
          58.333333333333336,
          58,
          41,
          46.333333333333336,
          50.333333333333336,
          38.333333333333336,
          32.333333333333336,
          46,
          80.33333333333333,
          58.666666666666664,
          43.333333333333336,
          77,
          76,
          69,
          97.66666666666667,
          60,
          64,
          78,
          51.333333333333336,
          51.666666666666664,
          68.33333333333333,
          48.666666666666664,
          65.66666666666667,
          48.333333333333336,
          64.33333333333333,
          54,
          79.33333333333333,
          30,
          55.666666666666664,
          71,
          68,
          65.33333333333333,
          69,
          47.333333333333336,
          62,
          79.66666666666667,
          78.33333333333333,
          63,
          45.333333333333336,
          84,
          80,
          54,
          23.333333333333332,
          57,
          71.66666666666667,
          60.666666666666664,
          55.666666666666664,
          62.666666666666664,
          43.333333333333336,
          77,
          66.33333333333333,
          44.666666666666664,
          55.666666666666664,
          38,
          68.33333333333333,
          59,
          61.666666666666664,
          63,
          50.333333333333336,
          71.33333333333333,
          78,
          65,
          57.333333333333336,
          46.666666666666664,
          51.666666666666664,
          55.333333333333336,
          51,
          68,
          65.66666666666667,
          54.666666666666664,
          81,
          59.333333333333336,
          56,
          54.333333333333336,
          54.333333333333336,
          59,
          80.33333333333333,
          80.33333333333333,
          73.33333333333333,
          88.33333333333333,
          67.66666666666667,
          64.66666666666667,
          48.333333333333336,
          52.666666666666664,
          67.66666666666667,
          49.333333333333336,
          56.333333333333336,
          23,
          56,
          87.66666666666667,
          64,
          68.66666666666667,
          60.333333333333336,
          53.666666666666664,
          67.33333333333333,
          50.666666666666664,
          53.333333333333336,
          69.33333333333333,
          74.66666666666667,
          53,
          78,
          61.333333333333336,
          76,
          51.666666666666664,
          88.66666666666667,
          63.666666666666664,
          66.33333333333333,
          81.33333333333333,
          57.666666666666664,
          48,
          58.666666666666664,
          52.333333333333336,
          77,
          55.333333333333336,
          70,
          58.333333333333336,
          64.66666666666667,
          69.66666666666667,
          76.66666666666667,
          47,
          69,
          50.666666666666664,
          56,
          75.66666666666667,
          69.33333333333333,
          77.33333333333333,
          39.666666666666664,
          54.666666666666664,
          74.66666666666667,
          50.333333333333336,
          87.33333333333333,
          70,
          48.333333333333336,
          61.666666666666664,
          47.666666666666664,
          30.666666666666668,
          46.666666666666664,
          68.66666666666667,
          71,
          57.333333333333336,
          44.333333333333336,
          70.33333333333333,
          60.333333333333336,
          68.33333333333333,
          73,
          63.666666666666664,
          70,
          61.333333333333336,
          50.333333333333336,
          60.666666666666664,
          80.66666666666667,
          57.333333333333336
         ],
         "xaxis": "x",
         "yaxis": "y"
        },
        {
         "alignmentgroup": "True",
         "bingroup": "x",
         "hovertemplate": "lunch=standard<br>average=%{x}<br>count=%{y}<extra></extra>",
         "legendgroup": "standard",
         "marker": {
          "color": "#EF553B",
          "pattern": {
           "shape": ""
          }
         },
         "name": "standard",
         "offsetgroup": "standard",
         "orientation": "v",
         "showlegend": true,
         "type": "histogram",
         "x": [
          76.33333333333333,
          54.666666666666664,
          45,
          73.33333333333333,
          87.66666666666667,
          66,
          50.333333333333336,
          59.333333333333336,
          68.33333333333333,
          40,
          88.66666666666667,
          80.33333333333333,
          58.666666666666664,
          82.66666666666667,
          52,
          46.333333333333336,
          80.33333333333333,
          52,
          58.333333333333336,
          64,
          60.333333333333336,
          46.333333333333336,
          26,
          79.66666666666667,
          66.33333333333333,
          73.66666666666667,
          64.33333333333333,
          71,
          72,
          50.333333333333336,
          91.33333333333333,
          64.33333333333333,
          55.333333333333336,
          51.333333333333336,
          78.33333333333333,
          90.66666666666667,
          78.66666666666667,
          69,
          72,
          79.33333333333333,
          85,
          53.666666666666664,
          48.666666666666664,
          60.333333333333336,
          67,
          49,
          79.66666666666667,
          82.33333333333333,
          66,
          70.66666666666667,
          50,
          63.333333333333336,
          51.333333333333336,
          73,
          86.66666666666667,
          73.66666666666667,
          65.33333333333333,
          79.33333333333333,
          67,
          56,
          71.66666666666667,
          47.333333333333336,
          74.33333333333333,
          68.66666666666667,
          79,
          86.33333333333333,
          80.66666666666667,
          57.666666666666664,
          81.66666666666667,
          80.33333333333333,
          53.666666666666664,
          68.66666666666667,
          43.666666666666664,
          85.66666666666667,
          83,
          77.33333333333333,
          52.333333333333336,
          81.33333333333333,
          51,
          72.66666666666667,
          77.33333333333333,
          79.66666666666667,
          60.333333333333336,
          48.333333333333336,
          77.33333333333333,
          52.666666666666664,
          77.33333333333333,
          78.66666666666667,
          72.33333333333333,
          64.33333333333333,
          49.666666666666664,
          83,
          78,
          49,
          46.333333333333336,
          81.66666666666667,
          89,
          76.66666666666667,
          71.33333333333333,
          76.33333333333333,
          60,
          43.333333333333336,
          71,
          73.33333333333333,
          68.33333333333333,
          89,
          49,
          61,
          65.33333333333333,
          67.33333333333333,
          77.66666666666667,
          67.66666666666667,
          61.333333333333336,
          78,
          64,
          39.666666666666664,
          57,
          83,
          71.66666666666667,
          47.666666666666664,
          68.66666666666667,
          73,
          60,
          79,
          58.333333333333336,
          61.666666666666664,
          82.33333333333333,
          59,
          60,
          77.33333333333333,
          73.33333333333333,
          64,
          94,
          72.66666666666667,
          70,
          55.666666666666664,
          64.66666666666667,
          57.666666666666664,
          46.333333333333336,
          64.33333333333333,
          85.33333333333333,
          81.66666666666667,
          65.66666666666667,
          65.66666666666667,
          75.33333333333333,
          71,
          71.33333333333333,
          63,
          85,
          57.333333333333336,
          68.33333333333333,
          69,
          59,
          86.33333333333333,
          82.33333333333333,
          45,
          75.33333333333333,
          68.33333333333333,
          65,
          80.33333333333333,
          68,
          73.33333333333333,
          71.33333333333333,
          70.66666666666667,
          52.333333333333336,
          71.66666666666667,
          58,
          66,
          73,
          68,
          78,
          73.33333333333333,
          52.333333333333336,
          57.333333333333336,
          61.333333333333336,
          51.333333333333336,
          62.333333333333336,
          60.333333333333336,
          70,
          56.333333333333336,
          74,
          91.66666666666667,
          70.66666666666667,
          67.66666666666667,
          73.33333333333333,
          46,
          67,
          92.66666666666667,
          45.333333333333336,
          72,
          93,
          54.666666666666664,
          61,
          66.66666666666667,
          51.666666666666664,
          69.66666666666667,
          91.66666666666667,
          83,
          86.66666666666667,
          94,
          98.66666666666667,
          51.666666666666664,
          67,
          68,
          82.66666666666667,
          69.66666666666667,
          78.66666666666667,
          48,
          65,
          65.33333333333333,
          87.33333333333333,
          67.33333333333333,
          68.66666666666667,
          69.33333333333333,
          76.66666666666667,
          62.666666666666664,
          57,
          65.33333333333333,
          76,
          86,
          38.666666666666664,
          59,
          85,
          89,
          82,
          74.33333333333333,
          46.666666666666664,
          43.666666666666664,
          75.33333333333333,
          58.666666666666664,
          43,
          48.666666666666664,
          61,
          85,
          75,
          75,
          75,
          71.66666666666667,
          67,
          85.66666666666667,
          69.33333333333333,
          68.33333333333333,
          55,
          74.33333333333333,
          81.66666666666667,
          60.666666666666664,
          66,
          49.666666666666664,
          74,
          63.666666666666664,
          87,
          83.66666666666667,
          83.33333333333333,
          70,
          61,
          69.33333333333333,
          76.33333333333333,
          78,
          54.666666666666664,
          39.333333333333336,
          82.33333333333333,
          89,
          62.333333333333336,
          58.333333333333336,
          60.666666666666664,
          51,
          64.66666666666667,
          57.666666666666664,
          86.33333333333333,
          87,
          56,
          74.66666666666667,
          68.33333333333333,
          70,
          60.333333333333336,
          49,
          93.66666666666667,
          84,
          48,
          54.666666666666664,
          81.33333333333333,
          82.33333333333333,
          57.333333333333336,
          64.33333333333333,
          79,
          61.333333333333336,
          86,
          80.66666666666667,
          52,
          68,
          100,
          92.66666666666667,
          68,
          66,
          91.66666666666667,
          59,
          83.66666666666667,
          71.33333333333333,
          70.33333333333333,
          81.33333333333333,
          79.33333333333333,
          54.666666666666664,
          63.666666666666664,
          84,
          75.66666666666667,
          62.333333333333336,
          66,
          62,
          73,
          61.666666666666664,
          48,
          79,
          83.33333333333333,
          54,
          77.33333333333333,
          62.666666666666664
         ],
         "xaxis": "x",
         "yaxis": "y"
        }
       ],
       "layout": {
        "barmode": "relative",
        "legend": {
         "title": {
          "text": "lunch"
         },
         "tracegroupgap": 0
        },
        "template": {
         "data": {
          "bar": [
           {
            "error_x": {
             "color": "#2a3f5f"
            },
            "error_y": {
             "color": "#2a3f5f"
            },
            "marker": {
             "line": {
              "color": "#E5ECF6",
              "width": 0.5
             },
             "pattern": {
              "fillmode": "overlay",
              "size": 10,
              "solidity": 0.2
             }
            },
            "type": "bar"
           }
          ],
          "barpolar": [
           {
            "marker": {
             "line": {
              "color": "#E5ECF6",
              "width": 0.5
             },
             "pattern": {
              "fillmode": "overlay",
              "size": 10,
              "solidity": 0.2
             }
            },
            "type": "barpolar"
           }
          ],
          "carpet": [
           {
            "aaxis": {
             "endlinecolor": "#2a3f5f",
             "gridcolor": "white",
             "linecolor": "white",
             "minorgridcolor": "white",
             "startlinecolor": "#2a3f5f"
            },
            "baxis": {
             "endlinecolor": "#2a3f5f",
             "gridcolor": "white",
             "linecolor": "white",
             "minorgridcolor": "white",
             "startlinecolor": "#2a3f5f"
            },
            "type": "carpet"
           }
          ],
          "choropleth": [
           {
            "colorbar": {
             "outlinewidth": 0,
             "ticks": ""
            },
            "type": "choropleth"
           }
          ],
          "contour": [
           {
            "colorbar": {
             "outlinewidth": 0,
             "ticks": ""
            },
            "colorscale": [
             [
              0,
              "#0d0887"
             ],
             [
              0.1111111111111111,
              "#46039f"
             ],
             [
              0.2222222222222222,
              "#7201a8"
             ],
             [
              0.3333333333333333,
              "#9c179e"
             ],
             [
              0.4444444444444444,
              "#bd3786"
             ],
             [
              0.5555555555555556,
              "#d8576b"
             ],
             [
              0.6666666666666666,
              "#ed7953"
             ],
             [
              0.7777777777777778,
              "#fb9f3a"
             ],
             [
              0.8888888888888888,
              "#fdca26"
             ],
             [
              1,
              "#f0f921"
             ]
            ],
            "type": "contour"
           }
          ],
          "contourcarpet": [
           {
            "colorbar": {
             "outlinewidth": 0,
             "ticks": ""
            },
            "type": "contourcarpet"
           }
          ],
          "heatmap": [
           {
            "colorbar": {
             "outlinewidth": 0,
             "ticks": ""
            },
            "colorscale": [
             [
              0,
              "#0d0887"
             ],
             [
              0.1111111111111111,
              "#46039f"
             ],
             [
              0.2222222222222222,
              "#7201a8"
             ],
             [
              0.3333333333333333,
              "#9c179e"
             ],
             [
              0.4444444444444444,
              "#bd3786"
             ],
             [
              0.5555555555555556,
              "#d8576b"
             ],
             [
              0.6666666666666666,
              "#ed7953"
             ],
             [
              0.7777777777777778,
              "#fb9f3a"
             ],
             [
              0.8888888888888888,
              "#fdca26"
             ],
             [
              1,
              "#f0f921"
             ]
            ],
            "type": "heatmap"
           }
          ],
          "heatmapgl": [
           {
            "colorbar": {
             "outlinewidth": 0,
             "ticks": ""
            },
            "colorscale": [
             [
              0,
              "#0d0887"
             ],
             [
              0.1111111111111111,
              "#46039f"
             ],
             [
              0.2222222222222222,
              "#7201a8"
             ],
             [
              0.3333333333333333,
              "#9c179e"
             ],
             [
              0.4444444444444444,
              "#bd3786"
             ],
             [
              0.5555555555555556,
              "#d8576b"
             ],
             [
              0.6666666666666666,
              "#ed7953"
             ],
             [
              0.7777777777777778,
              "#fb9f3a"
             ],
             [
              0.8888888888888888,
              "#fdca26"
             ],
             [
              1,
              "#f0f921"
             ]
            ],
            "type": "heatmapgl"
           }
          ],
          "histogram": [
           {
            "marker": {
             "pattern": {
              "fillmode": "overlay",
              "size": 10,
              "solidity": 0.2
             }
            },
            "type": "histogram"
           }
          ],
          "histogram2d": [
           {
            "colorbar": {
             "outlinewidth": 0,
             "ticks": ""
            },
            "colorscale": [
             [
              0,
              "#0d0887"
             ],
             [
              0.1111111111111111,
              "#46039f"
             ],
             [
              0.2222222222222222,
              "#7201a8"
             ],
             [
              0.3333333333333333,
              "#9c179e"
             ],
             [
              0.4444444444444444,
              "#bd3786"
             ],
             [
              0.5555555555555556,
              "#d8576b"
             ],
             [
              0.6666666666666666,
              "#ed7953"
             ],
             [
              0.7777777777777778,
              "#fb9f3a"
             ],
             [
              0.8888888888888888,
              "#fdca26"
             ],
             [
              1,
              "#f0f921"
             ]
            ],
            "type": "histogram2d"
           }
          ],
          "histogram2dcontour": [
           {
            "colorbar": {
             "outlinewidth": 0,
             "ticks": ""
            },
            "colorscale": [
             [
              0,
              "#0d0887"
             ],
             [
              0.1111111111111111,
              "#46039f"
             ],
             [
              0.2222222222222222,
              "#7201a8"
             ],
             [
              0.3333333333333333,
              "#9c179e"
             ],
             [
              0.4444444444444444,
              "#bd3786"
             ],
             [
              0.5555555555555556,
              "#d8576b"
             ],
             [
              0.6666666666666666,
              "#ed7953"
             ],
             [
              0.7777777777777778,
              "#fb9f3a"
             ],
             [
              0.8888888888888888,
              "#fdca26"
             ],
             [
              1,
              "#f0f921"
             ]
            ],
            "type": "histogram2dcontour"
           }
          ],
          "mesh3d": [
           {
            "colorbar": {
             "outlinewidth": 0,
             "ticks": ""
            },
            "type": "mesh3d"
           }
          ],
          "parcoords": [
           {
            "line": {
             "colorbar": {
              "outlinewidth": 0,
              "ticks": ""
             }
            },
            "type": "parcoords"
           }
          ],
          "pie": [
           {
            "automargin": true,
            "type": "pie"
           }
          ],
          "scatter": [
           {
            "fillpattern": {
             "fillmode": "overlay",
             "size": 10,
             "solidity": 0.2
            },
            "type": "scatter"
           }
          ],
          "scatter3d": [
           {
            "line": {
             "colorbar": {
              "outlinewidth": 0,
              "ticks": ""
             }
            },
            "marker": {
             "colorbar": {
              "outlinewidth": 0,
              "ticks": ""
             }
            },
            "type": "scatter3d"
           }
          ],
          "scattercarpet": [
           {
            "marker": {
             "colorbar": {
              "outlinewidth": 0,
              "ticks": ""
             }
            },
            "type": "scattercarpet"
           }
          ],
          "scattergeo": [
           {
            "marker": {
             "colorbar": {
              "outlinewidth": 0,
              "ticks": ""
             }
            },
            "type": "scattergeo"
           }
          ],
          "scattergl": [
           {
            "marker": {
             "colorbar": {
              "outlinewidth": 0,
              "ticks": ""
             }
            },
            "type": "scattergl"
           }
          ],
          "scattermapbox": [
           {
            "marker": {
             "colorbar": {
              "outlinewidth": 0,
              "ticks": ""
             }
            },
            "type": "scattermapbox"
           }
          ],
          "scatterpolar": [
           {
            "marker": {
             "colorbar": {
              "outlinewidth": 0,
              "ticks": ""
             }
            },
            "type": "scatterpolar"
           }
          ],
          "scatterpolargl": [
           {
            "marker": {
             "colorbar": {
              "outlinewidth": 0,
              "ticks": ""
             }
            },
            "type": "scatterpolargl"
           }
          ],
          "scatterternary": [
           {
            "marker": {
             "colorbar": {
              "outlinewidth": 0,
              "ticks": ""
             }
            },
            "type": "scatterternary"
           }
          ],
          "surface": [
           {
            "colorbar": {
             "outlinewidth": 0,
             "ticks": ""
            },
            "colorscale": [
             [
              0,
              "#0d0887"
             ],
             [
              0.1111111111111111,
              "#46039f"
             ],
             [
              0.2222222222222222,
              "#7201a8"
             ],
             [
              0.3333333333333333,
              "#9c179e"
             ],
             [
              0.4444444444444444,
              "#bd3786"
             ],
             [
              0.5555555555555556,
              "#d8576b"
             ],
             [
              0.6666666666666666,
              "#ed7953"
             ],
             [
              0.7777777777777778,
              "#fb9f3a"
             ],
             [
              0.8888888888888888,
              "#fdca26"
             ],
             [
              1,
              "#f0f921"
             ]
            ],
            "type": "surface"
           }
          ],
          "table": [
           {
            "cells": {
             "fill": {
              "color": "#EBF0F8"
             },
             "line": {
              "color": "white"
             }
            },
            "header": {
             "fill": {
              "color": "#C8D4E3"
             },
             "line": {
              "color": "white"
             }
            },
            "type": "table"
           }
          ]
         },
         "layout": {
          "annotationdefaults": {
           "arrowcolor": "#2a3f5f",
           "arrowhead": 0,
           "arrowwidth": 1
          },
          "autotypenumbers": "strict",
          "coloraxis": {
           "colorbar": {
            "outlinewidth": 0,
            "ticks": ""
           }
          },
          "colorscale": {
           "diverging": [
            [
             0,
             "#8e0152"
            ],
            [
             0.1,
             "#c51b7d"
            ],
            [
             0.2,
             "#de77ae"
            ],
            [
             0.3,
             "#f1b6da"
            ],
            [
             0.4,
             "#fde0ef"
            ],
            [
             0.5,
             "#f7f7f7"
            ],
            [
             0.6,
             "#e6f5d0"
            ],
            [
             0.7,
             "#b8e186"
            ],
            [
             0.8,
             "#7fbc41"
            ],
            [
             0.9,
             "#4d9221"
            ],
            [
             1,
             "#276419"
            ]
           ],
           "sequential": [
            [
             0,
             "#0d0887"
            ],
            [
             0.1111111111111111,
             "#46039f"
            ],
            [
             0.2222222222222222,
             "#7201a8"
            ],
            [
             0.3333333333333333,
             "#9c179e"
            ],
            [
             0.4444444444444444,
             "#bd3786"
            ],
            [
             0.5555555555555556,
             "#d8576b"
            ],
            [
             0.6666666666666666,
             "#ed7953"
            ],
            [
             0.7777777777777778,
             "#fb9f3a"
            ],
            [
             0.8888888888888888,
             "#fdca26"
            ],
            [
             1,
             "#f0f921"
            ]
           ],
           "sequentialminus": [
            [
             0,
             "#0d0887"
            ],
            [
             0.1111111111111111,
             "#46039f"
            ],
            [
             0.2222222222222222,
             "#7201a8"
            ],
            [
             0.3333333333333333,
             "#9c179e"
            ],
            [
             0.4444444444444444,
             "#bd3786"
            ],
            [
             0.5555555555555556,
             "#d8576b"
            ],
            [
             0.6666666666666666,
             "#ed7953"
            ],
            [
             0.7777777777777778,
             "#fb9f3a"
            ],
            [
             0.8888888888888888,
             "#fdca26"
            ],
            [
             1,
             "#f0f921"
            ]
           ]
          },
          "colorway": [
           "#636efa",
           "#EF553B",
           "#00cc96",
           "#ab63fa",
           "#FFA15A",
           "#19d3f3",
           "#FF6692",
           "#B6E880",
           "#FF97FF",
           "#FECB52"
          ],
          "font": {
           "color": "#2a3f5f"
          },
          "geo": {
           "bgcolor": "white",
           "lakecolor": "white",
           "landcolor": "#E5ECF6",
           "showlakes": true,
           "showland": true,
           "subunitcolor": "white"
          },
          "hoverlabel": {
           "align": "left"
          },
          "hovermode": "closest",
          "mapbox": {
           "style": "light"
          },
          "paper_bgcolor": "white",
          "plot_bgcolor": "#E5ECF6",
          "polar": {
           "angularaxis": {
            "gridcolor": "white",
            "linecolor": "white",
            "ticks": ""
           },
           "bgcolor": "#E5ECF6",
           "radialaxis": {
            "gridcolor": "white",
            "linecolor": "white",
            "ticks": ""
           }
          },
          "scene": {
           "xaxis": {
            "backgroundcolor": "#E5ECF6",
            "gridcolor": "white",
            "gridwidth": 2,
            "linecolor": "white",
            "showbackground": true,
            "ticks": "",
            "zerolinecolor": "white"
           },
           "yaxis": {
            "backgroundcolor": "#E5ECF6",
            "gridcolor": "white",
            "gridwidth": 2,
            "linecolor": "white",
            "showbackground": true,
            "ticks": "",
            "zerolinecolor": "white"
           },
           "zaxis": {
            "backgroundcolor": "#E5ECF6",
            "gridcolor": "white",
            "gridwidth": 2,
            "linecolor": "white",
            "showbackground": true,
            "ticks": "",
            "zerolinecolor": "white"
           }
          },
          "shapedefaults": {
           "line": {
            "color": "#2a3f5f"
           }
          },
          "ternary": {
           "aaxis": {
            "gridcolor": "white",
            "linecolor": "white",
            "ticks": ""
           },
           "baxis": {
            "gridcolor": "white",
            "linecolor": "white",
            "ticks": ""
           },
           "bgcolor": "#E5ECF6",
           "caxis": {
            "gridcolor": "white",
            "linecolor": "white",
            "ticks": ""
           }
          },
          "title": {
           "x": 0.05
          },
          "xaxis": {
           "automargin": true,
           "gridcolor": "white",
           "linecolor": "white",
           "ticks": "",
           "title": {
            "standoff": 15
           },
           "zerolinecolor": "white",
           "zerolinewidth": 2
          },
          "yaxis": {
           "automargin": true,
           "gridcolor": "white",
           "linecolor": "white",
           "ticks": "",
           "title": {
            "standoff": 15
           },
           "zerolinecolor": "white",
           "zerolinewidth": 2
          }
         }
        },
        "title": {
         "text": "Female Average"
        },
        "xaxis": {
         "anchor": "y",
         "domain": [
          0,
          1
         ],
         "title": {
          "text": "average"
         }
        },
        "yaxis": {
         "anchor": "x",
         "domain": [
          0,
          1
         ],
         "title": {
          "text": "count"
         }
        }
       }
      }
     },
     "metadata": {},
     "output_type": "display_data"
    }
   ],
   "source": [
    "fig = px.histogram(df, x='average', color=\"lunch\")\n",
    "fig1 = px.histogram(df[df.gender=='female'], x='average', color=\"lunch\", title=\"Male Average\")\n",
    "fig2 = px.histogram(df[df.gender=='male'], x='average', color=\"lunch\", title=\"Female Average\")\n",
    "fig.show()\n",
    "fig1.show()\n",
    "fig2.show()"
   ]
  },
  {
   "cell_type": "code",
   "execution_count": null,
   "metadata": {},
   "outputs": [],
   "source": []
  }
 ],
 "metadata": {
  "kernelspec": {
   "display_name": "Python 3.11.1 64-bit",
   "language": "python",
   "name": "python3"
  },
  "language_info": {
   "codemirror_mode": {
    "name": "ipython",
    "version": 3
   },
   "file_extension": ".py",
   "mimetype": "text/x-python",
   "name": "python",
   "nbconvert_exporter": "python",
   "pygments_lexer": "ipython3",
   "version": "3.11.1"
  },
  "orig_nbformat": 4,
  "vscode": {
   "interpreter": {
    "hash": "aee8b7b246df8f9039afb4144a1f6fd8d2ca17a180786b69acc140d282b71a49"
   }
  }
 },
 "nbformat": 4,
 "nbformat_minor": 2
}
